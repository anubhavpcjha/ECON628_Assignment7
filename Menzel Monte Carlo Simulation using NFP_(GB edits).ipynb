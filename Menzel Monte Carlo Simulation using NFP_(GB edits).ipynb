{
 "cells": [
  {
   "cell_type": "markdown",
   "metadata": {},
   "source": [
    "# Monte-Carlo For Menzel 2015 Econometrica"
   ]
  },
  {
   "cell_type": "code",
   "execution_count": 1,
   "metadata": {},
   "outputs": [
    {
     "ename": "ArgumentError",
     "evalue": "ArgumentError: Package JuMP not found in current path:\n- Run `import Pkg; Pkg.add(\"JuMP\")` to install the JuMP package.\n",
     "output_type": "error",
     "traceback": [
      "ArgumentError: Package JuMP not found in current path:\n- Run `import Pkg; Pkg.add(\"JuMP\")` to install the JuMP package.\n",
      "",
      "Stacktrace:",
      " [1] require(::Module, ::Symbol) at .\\loading.jl:820",
      " [2] top-level scope at In[1]:1"
     ]
    }
   ],
   "source": [
    "using LinearAlgebra, Statistics, ForwardDiff, JuMP, LinearAlgebra, Distributions, Random\n",
    "using Optim\n",
    "using Optim: converged, maximum, maximizer, minimizer, iterations "
   ]
  },
  {
   "cell_type": "markdown",
   "metadata": {},
   "source": [
    "# The Following Function Calculates the systematic parts of the Pay-Offs"
   ]
  },
  {
   "cell_type": "code",
   "execution_count": 3,
   "metadata": {},
   "outputs": [
    {
     "data": {
      "text/plain": [
       "makeindex (generic function with 1 method)"
      ]
     },
     "execution_count": 3,
     "metadata": {},
     "output_type": "execute_result"
    }
   ],
   "source": [
    "function makeindex(X_women,X_men,θ_w)\n",
    "    nw,k=size(X_women)\n",
    "    nm,k=size(X_men)\n",
    "    \n",
    "    tw_own=θ_w[1:k]\n",
    "    tw_oth=θ_w[k+1:2*k]\n",
    "    tw_diff=θ_w[2*k+1:3*k]\n",
    "    tw_dist=θ_w[3*k+1:4*k]\n",
    "    \n",
    "    Xb = reshape((repeat(X_women,nm,1)-reshape(repeat(X_men',nw,1),k,nm*nw)').^2*tw_dist,nw,nm);\n",
    "    \n",
    "    Xb = Xb + repeat(X_women*tw_own,1,nm) + repeat(tw_oth',nw,1)*X_men';\n",
    "    Xb = Xb + repeat(X_women*tw_diff,1,nm) - repeat(tw_diff',nw,1)*X_men';\n",
    "    \n",
    "    return Xb\n",
    "end\n",
    "    "
   ]
  },
  {
   "cell_type": "markdown",
   "metadata": {},
   "source": [
    "# The Gale-Shapley: Proposer = U "
   ]
  },
  {
   "cell_type": "code",
   "execution_count": 4,
   "metadata": {},
   "outputs": [
    {
     "data": {
      "text/plain": [
       "Gale_Shapley (generic function with 1 method)"
      ]
     },
     "execution_count": 4,
     "metadata": {},
     "output_type": "execute_result"
    }
   ],
   "source": [
    "function Gale_Shapley(U,V)\n",
    "    nw,nm=size(U)\n",
    "    U_temp=U\n",
    "    nmax=10*nw*nm\n",
    "    \n",
    "    for i in 1:nmax\n",
    "        Prop = Int.((U_temp.==repeat(max.(findmax(U_temp,dims=2)[1],0),1,nm)))\n",
    "        Rej = Prop.*(Int.((Prop.*V .< max.(0,repeat(findmax(Prop.*V,dims=1)[1],nw,1)))))\n",
    "        U_temp[Rej.== Prop].=-1;\n",
    "        \n",
    "        if sum(sum(Rej))==0\n",
    "            break\n",
    "        end\n",
    "        \n",
    "    end\n",
    "    \n",
    "   return μ= Int.((U_temp.==repeat(max.(findmax(U_temp,dims=2)[1],0),1,nm)))\n",
    "    \n",
    "end\n",
    "    "
   ]
  },
  {
   "cell_type": "markdown",
   "metadata": {},
   "source": [
    "# The Loglikelihood Function"
   ]
  },
  {
   "cell_type": "code",
   "execution_count": 230,
   "metadata": {},
   "outputs": [
    {
     "data": {
      "text/plain": [
       "201.00419970001997"
      ]
     },
     "execution_count": 230,
     "metadata": {},
     "output_type": "execute_result"
    }
   ],
   "source": [
    "function loglik2(θ::Vector,μ::AbstractArray,X::AbstractArray,Z::AbstractArray)\n",
    "    \n",
    "    for i in 16:20\n",
    "        if θ[i]<=0\n",
    "        θ[i]=1e-4\n",
    "        end\n",
    "    end\n",
    "    \n",
    "   # θ[3:7]=zeros(5)\n",
    "   # θ[11:15]=zeros(5)\n",
    "        \n",
    "    nw=length(X);\n",
    "    nm=length(Z);\n",
    "    k=Int(length(θ)/2-2);\n",
    "    \n",
    "    βw=θ[1:k];\n",
    "    βm=θ[k+1:2*k];\n",
    "    Γ=θ[2*k+1:2*k+4]\n",
    "    \n",
    "    if  Γ <= zeros(4)\n",
    "        Γ.= 1e-2\n",
    "    end\n",
    "\n",
    "    \n",
    "    Γ_w_mat = log.((1 .+ Γ[1].*(1 .-X[:,2]) + Γ[2].*X[:,2]));\n",
    "    Γ_m_mat = log.((1 .+ Γ[3].*(1 .-Z[:,2]) + Γ[4].*Z[:,2]));\n",
    "    \n",
    "    U_star = makeindex(X,Z,βw);\n",
    "    V_star = makeindex(Z,X,βm)';\n",
    "   \n",
    "    W_star = μ.*(U_star + V_star);\n",
    "    \n",
    "    \n",
    "    mar_w = sum(μ,dims=2);\n",
    "    mar_m = sum(μ,dims=1)';\n",
    "    \n",
    "    LL = -(2*sum(sum(W_star)) - sum((1 .+mar_w).*Γ_w_mat) - sum((1 .+mar_m).*Γ_m_mat));\n",
    "    return LL\n",
    "    \n",
    "end\n",
    "\n",
    " loglik2(-1.5 .*ones(20),μ,X,Z)\n",
    "#theta_0"
   ]
  },
  {
   "cell_type": "markdown",
   "metadata": {},
   "source": [
    "# Fixed Point Constraint"
   ]
  },
  {
   "cell_type": "code",
   "execution_count": 229,
   "metadata": {},
   "outputs": [
    {
     "data": {
      "text/plain": [
       "Ψ_fp1 (generic function with 2 methods)"
      ]
     },
     "execution_count": 229,
     "metadata": {},
     "output_type": "execute_result"
    }
   ],
   "source": [
    "function Ψ_fp1(θ::Vector,X::AbstractArray,Z::AbstractArray)\n",
    "    \n",
    "    for i in 16:20\n",
    "        if θ[i]<=0\n",
    "        θ[i]=1e-4\n",
    "        end\n",
    "    end\n",
    "      \n",
    "   # θ[3:7]=zeros(5)\n",
    "    #θ[11:15]=zeros(5)\n",
    "    \n",
    "    \n",
    "    nw = length(X);\n",
    "    nm = length(Z);\n",
    "    k = Int(length(θ)/2-2);\n",
    "    β_w = θ[1:k];\n",
    "    β_m = θ[k+1:2*k];\n",
    "    Γ = θ[2*k+1:2*k+4];\n",
    "    \n",
    "    \n",
    "    Γ_w_mat = 1 .+ Γ[1].*(1 .-X[:,2]) + Γ[2].*X[:,2];\n",
    "    Γ_m_mat = 1 .+ Γ[3].*(1 .-Z[:,2]) + Γ[4].*Z[:,2];\n",
    "    \n",
    "    Xw = [1 0;1 1];\n",
    "    \n",
    "    U_star = makeindex(Xw,Z,β_w);\n",
    "    V_star = makeindex(Z,Xw,β_m)';\n",
    "    W_star_w = U_star + V_star;\n",
    "    \n",
    "    Zm = [1 0;1 1];\n",
    "    \n",
    "    \n",
    "    U_star = makeindex(X,Zm,β_w);\n",
    "    V_star = makeindex(Zm,X,β_m)';\n",
    "    W_star_m = U_star + V_star;\n",
    "    \n",
    "    Ψ_w = mean((exp.(W_star_w))' ./repeat(Γ_m_mat,1,2),dims=1);\n",
    "    Ψ_m = mean(exp.(W_star_m)./repeat(Γ_w_mat,1,2),dims=1);\n",
    "    Ψ_diff1 = Γ - [Ψ_w'..., Ψ_m'...]\n",
    "    \n",
    "    #Ψ_ineq = zeros(4,1);\n",
    "    return Ψ_diff1\n",
    "    \n",
    "end"
   ]
  },
  {
   "cell_type": "markdown",
   "metadata": {},
   "source": [
    "# Parametric Consistency Constraint"
   ]
  },
  {
   "cell_type": "code",
   "execution_count": 182,
   "metadata": {},
   "outputs": [
    {
     "data": {
      "text/plain": [
       "θ_diff (generic function with 1 method)"
      ]
     },
     "execution_count": 182,
     "metadata": {},
     "output_type": "execute_result"
    }
   ],
   "source": [
    "function θ_diff(θ)\n",
    "    \n",
    "    th_diff=θ[1:8]-θ[9:16]\n",
    "    return th_diff\n",
    "end\n",
    "    "
   ]
  },
  {
   "cell_type": "markdown",
   "metadata": {},
   "source": [
    "# Lagrange For The Optimization"
   ]
  },
  {
   "cell_type": "code",
   "execution_count": 269,
   "metadata": {},
   "outputs": [
    {
     "data": {
      "text/plain": [
       "lagprime (generic function with 1 method)"
      ]
     },
     "execution_count": 269,
     "metadata": {},
     "output_type": "execute_result"
    }
   ],
   "source": [
    "function lagrangian(θλ::Vector,μ::AbstractArray,X::AbstractArray,Z::AbstractArray)\n",
    "    k=8\n",
    "    θ=θλ[1:2*k+4]\n",
    "    λ1=θλ[2*k+5:2*k+8]\n",
    "    λ2=θλ[3*k+1:4*k]\n",
    "    λ3=θλ[33:42]\n",
    "    λ4=θλ[43:52]\n",
    "    lagr=loglik2(θ,μ,X,Z)+dot(λ1,Ψ_fp1(θ,X,Z))+dot(λ2,θ_diff(θ))+dot(λ3,[θ[3:7]...,θ[11:15]...])-dot(λ4,[θ[3:7]...,θ[11:15]...])\n",
    "    return lagr\n",
    "end\n",
    "\n",
    "function lagprime(θλ::Vector,μ::AbstractArray,X::AbstractArray,Z::AbstractArray)\n",
    "     lag=y->ForwardDiff.gradient(y->lagrangian(y,μ,X,Z),y)\n",
    "    return lag(θλ)\n",
    "end"
   ]
  },
  {
   "cell_type": "markdown",
   "metadata": {},
   "source": [
    "# Define Loglikelihood Function to accomodate NLopt Format"
   ]
  },
  {
   "cell_type": "code",
   "execution_count": 6,
   "metadata": {},
   "outputs": [
    {
     "data": {
      "text/plain": [
       "lognlopt (generic function with 1 method)"
      ]
     },
     "execution_count": 6,
     "metadata": {},
     "output_type": "execute_result"
    }
   ],
   "source": [
    "function lognlopt!(θ::Vector,grad::Vector,μ::AbstractArray,X::AbstractArray,Z::AbstractArray)\n",
    "    logtmp(x)=loglik2(x,μ,X,Z);  \n",
    "    tmp= y->ForwardDiff.gradient(logtmp,y)\n",
    "    if length(grad)>0\n",
    "        grad= tmp(θ)\n",
    "    end\n",
    "    \n",
    "    return logtmp(θ)\n",
    "end\n",
    "    "
   ]
  },
  {
   "cell_type": "markdown",
   "metadata": {},
   "source": [
    "# Define Fixed Point Constraint to accomodate NLopt Format"
   ]
  },
  {
   "cell_type": "code",
   "execution_count": 7,
   "metadata": {},
   "outputs": [
    {
     "data": {
      "text/plain": [
       "Ψ_nlopt (generic function with 1 method)"
      ]
     },
     "execution_count": 7,
     "metadata": {},
     "output_type": "execute_result"
    }
   ],
   "source": [
    "function Ψ_nlopt!(result::Vector,θ::Vector,grad::Array,X::AbstractArray,Z::AbstractArray)\n",
    "    Ψ_tmp(q) =Ψ_fp1(q,X,Z);\n",
    "    tmp= y->ForwardDiff.jacobian(Ψ_tmp,y)    \n",
    "    if length(grad)>0\n",
    "        grad=tmp(θ)\n",
    "    end\n",
    "    return [Ψ_tmp(θ)...]\n",
    "end"
   ]
  },
  {
   "cell_type": "markdown",
   "metadata": {},
   "source": [
    "# MonteCarlo"
   ]
  },
  {
   "cell_type": "code",
   "execution_count": 251,
   "metadata": {},
   "outputs": [
    {
     "ename": "ArgumentError",
     "evalue": "ArgumentError: Value and slope at step length = 0 must be finite.",
     "output_type": "error",
     "traceback": [
      "ArgumentError: Value and slope at step length = 0 must be finite.",
      "",
      "Stacktrace:",
      " [1] macro expansion at C:\\Users\\Anubhav\\.julia\\packages\\Parameters\\35RKe\\src\\Parameters.jl:734 [inlined]",
      " [2] (::LineSearches.HagerZhang{Float64,Base.RefValue{Bool}})(::Function, ::getfield(LineSearches, Symbol(\"#ϕdϕ#6\")){Optim.ManifoldObjective{OnceDifferentiable{Float64,Array{Float64,1},Array{Float64,1}}},Array{Float64,1},Array{Float64,1},Array{Float64,1}}, ::Float64, ::Float64, ::Float64) at C:\\Users\\Anubhav\\.julia\\packages\\LineSearches\\WrsMD\\src\\hagerzhang.jl:111",
      " [3] HagerZhang at C:\\Users\\Anubhav\\.julia\\packages\\LineSearches\\WrsMD\\src\\hagerzhang.jl:101 [inlined]",
      " [4] perform_linesearch!(::Optim.LBFGSState{Array{Float64,1},Array{Array{Float64,1},1},Array{Array{Float64,1},1},Float64,Array{Float64,1}}, ::LBFGS{Nothing,LineSearches.InitialStatic{Float64},LineSearches.HagerZhang{Float64,Base.RefValue{Bool}},getfield(Optim, Symbol(\"##22#24\"))}, ::Optim.ManifoldObjective{OnceDifferentiable{Float64,Array{Float64,1},Array{Float64,1}}}) at C:\\Users\\Anubhav\\.julia\\packages\\Optim\\ULNLZ\\src\\utilities\\perform_linesearch.jl:40",
      " [5] update_state!(::OnceDifferentiable{Float64,Array{Float64,1},Array{Float64,1}}, ::Optim.LBFGSState{Array{Float64,1},Array{Array{Float64,1},1},Array{Array{Float64,1},1},Float64,Array{Float64,1}}, ::LBFGS{Nothing,LineSearches.InitialStatic{Float64},LineSearches.HagerZhang{Float64,Base.RefValue{Bool}},getfield(Optim, Symbol(\"##22#24\"))}) at C:\\Users\\Anubhav\\.julia\\packages\\Optim\\ULNLZ\\src\\multivariate\\solvers\\first_order\\l_bfgs.jl:198",
      " [6] optimize(::OnceDifferentiable{Float64,Array{Float64,1},Array{Float64,1}}, ::Array{Float64,1}, ::LBFGS{Nothing,LineSearches.InitialStatic{Float64},LineSearches.HagerZhang{Float64,Base.RefValue{Bool}},getfield(Optim, Symbol(\"##22#24\"))}, ::Optim.Options{Float64,Nothing}, ::Optim.LBFGSState{Array{Float64,1},Array{Array{Float64,1},1},Array{Array{Float64,1},1},Float64,Array{Float64,1}}) at C:\\Users\\Anubhav\\.julia\\packages\\Optim\\ULNLZ\\src\\multivariate\\optimize\\optimize.jl:57",
      " [7] optimize(::OnceDifferentiable{Float64,Array{Float64,1},Array{Float64,1}}, ::Array{Float64,1}, ::LBFGS{Nothing,LineSearches.InitialStatic{Float64},LineSearches.HagerZhang{Float64,Base.RefValue{Bool}},getfield(Optim, Symbol(\"##22#24\"))}, ::Optim.Options{Float64,Nothing}) at C:\\Users\\Anubhav\\.julia\\packages\\Optim\\ULNLZ\\src\\multivariate\\optimize\\optimize.jl:33",
      " [8] #optimize#87 at C:\\Users\\Anubhav\\.julia\\packages\\Optim\\ULNLZ\\src\\multivariate\\optimize\\interface.jl:114 [inlined]",
      " [9] (::getfield(Optim, Symbol(\"#kw##optimize\")))(::NamedTuple{(:autodiff,),Tuple{Symbol}}, ::typeof(Optim.optimize), ::Function, ::Array{Float64,1}, ::LBFGS{Nothing,LineSearches.InitialStatic{Float64},LineSearches.HagerZhang{Float64,Base.RefValue{Bool}},getfield(Optim, Symbol(\"##22#24\"))}, ::Optim.Options{Float64,Nothing}) at .\\none:0 (repeats 2 times)",
      " [10] top-level scope at In[251]:54"
     ]
    }
   ],
   "source": [
    "        \n",
    "# Random.seed!(1234)\n",
    "\n",
    "NumberofSimulations = 20\n",
    "\n",
    "beta_sim=zeros(52,NumberofSimulations)\n",
    "\n",
    "for b in 1:NumberofSimulations\n",
    "\n",
    "        n=20\n",
    "        alpha=0.5\n",
    "        n2 =Int(n/2)\n",
    "        X = repeat([1.0 0.0;1.0 1.0],n2,1)\n",
    "        Z = repeat([1.0 0.0;1.0 1.0],n2,1)\n",
    "\n",
    "        beta_w = [1;0;0;0;0;0;0;1];\n",
    "        beta_m = [1;0;0;0;0;0;0;1];\n",
    "        \n",
    "        beta_w = [alpha;0.5;0;0;0;0;0;1];\n",
    "        beta_m = [alpha;0.5;0;0;0;0;0;1];\n",
    "       \n",
    "        \n",
    "        U_star = makeindex(X,Z,beta_w);\n",
    "        V_star = makeindex(Z,X,beta_m)'\n",
    "\n",
    "        η=-log.(-log.(rand(n,n)));\n",
    "        ζ=-log.(-log.(rand(n,n)))\n",
    "        \n",
    "        J=Int(round(sqrt(n)))\n",
    "        η₀=repeat(findmax(-log.(-log.(rand(J,n))),dims=1)[1]',1,n)\n",
    "        ζ₀=repeat(findmax(-log.(-log.(rand(J,n))),dims=1)[1],n,1)\n",
    "\n",
    "        η=η-η₀\n",
    "        ζ=ζ-ζ₀\n",
    "        \n",
    "        U=U_star+η\n",
    "        V=V_star+ζ\n",
    "\n",
    "        μ=Gale_Shapley(U,V)\n",
    "        \n",
    "\n",
    "        k = length(beta_w);\n",
    "        \n",
    "       #theta_0 = [beta_w...,beta_m...,zeros(4)...];\n",
    "        theta_0 = [0.5 .*ones(20)...]\n",
    "\n",
    "        \n",
    "        thetalambda_0=[theta_0...,0.5 .*ones(32)...]\n",
    "        \n",
    "        \n",
    "        lower = [zeros(52)...]\n",
    "        upper= [1,1,ones(5)...,1,1,1,ones(5)...,1,1 .*ones(36)...]\n",
    "        \n",
    "        results = Optim.optimize(y->lagrangian(y,μ,X,Z),lower,upper, thetalambda_0,Fminbox() )\n",
    "        println(\"minimum = $(results.minimum) with argmin = $(results.minimizer[1:8]) in $(results.iterations) iterations\")  beta_sim[:,b]=results.minimizer\n",
    "end  \n",
    "@show beta_sim\n",
    "a=mean(beta_sim[1:k,:],dims=2)       "
   ]
  },
  {
   "cell_type": "code",
   "execution_count": null,
   "metadata": {},
   "outputs": [],
   "source": []
  }
 ],
 "metadata": {
  "kernelspec": {
   "display_name": "Julia 1.0.1",
   "language": "julia",
   "name": "julia-1.0"
  },
  "language_info": {
   "file_extension": ".jl",
   "mimetype": "application/julia",
   "name": "julia",
   "version": "1.0.1"
  }
 },
 "nbformat": 4,
 "nbformat_minor": 2
}

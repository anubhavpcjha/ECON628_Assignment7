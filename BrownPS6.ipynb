{
 "cells": [
  {
   "cell_type": "code",
   "execution_count": 1,
   "metadata": {},
   "outputs": [],
   "source": [
    "## Setup\n",
    "\n",
    "using InstantiateFromURL\n",
    "activate_github(\"QuantEcon/QuantEconLecturePackages\", tag = \"v0.3.1\") # activate the QuantEcon environment\n",
    "\n",
    "\n",
    "using LinearAlgebra, Statistics, Compat, StaticArrays, BenchmarkTools, NLsolve, Polynomials, Plots, QuadGK, ForwardDiff # load common packages"
   ]
  },
  {
   "cell_type": "markdown",
   "metadata": {},
   "source": [
    "### Exercise 1\n",
    "\n",
    "Explore the package [StaticArrays.jl](https://github.com/JuliaArrays/StaticArrays.jl)\n",
    "\n",
    "- Describe 2 abstract types and the hierarchy of 3 different concrete types  \n",
    "- Benchmark the calculation of some simple linear algebra with a static array compared to the following for a dense arrays for `N=3` and `N=15` "
   ]
  },
  {
   "cell_type": "code",
   "execution_count": 13,
   "metadata": {},
   "outputs": [
    {
     "name": "stdout",
     "output_type": "stream",
     "text": [
      "typeof(2) = Int64\n",
      "Int64 <: Signed <: Integer <: Real <: Number <: Any"
     ]
    }
   ],
   "source": [
    "using Base: show_supertypes\n",
    "#@show subtypes(Rational)\n",
    "#@show subtypes(Real)\n",
    "@show typeof(2);\n",
    "show_supertypes(Int64);"
   ]
  },
  {
   "cell_type": "code",
   "execution_count": 20,
   "metadata": {},
   "outputs": [
    {
     "name": "stdout",
     "output_type": "stream",
     "text": [
      "typeof(2 // 3) = Rational{Int64}\n",
      "Rational{Int64} <: Real <: Number <: Anysubtypes(Real) = Any[AbstractFloat, AbstractIrrational, Integer, Rational]\n"
     ]
    }
   ],
   "source": [
    "@show typeof(2//3);\n",
    "show_supertypes(Rational{Int64});\n",
    "@show subtypes(Real);"
   ]
  },
  {
   "cell_type": "code",
   "execution_count": 23,
   "metadata": {},
   "outputs": [
    {
     "name": "stdout",
     "output_type": "stream",
     "text": [
      "typeof([2 // 3, 3 // 2]) = Array{Rational{Int64},1}\n",
      "Array{Rational{Int64},1} <: DenseArray{Rational{Int64},1} <: AbstractArray{Rational{Int64},1} <: Anysubtypes(AbstractArray{Rational{Int64}, 1}) = Any[AbstractRange{Rational{Int64}}, LogicalIndex{Rational{Int64},A} where A<:(AbstractArray{Bool,N} where N), ReinterpretArray{Rational{Int64},1,S,A} where A<:AbstractArray{S,1} where S, ReshapedArray{Rational{Int64},1,P,MI} where MI<:Tuple{Vararg{SignedMultiplicativeInverse{Int64},N} where N} where P<:AbstractArray, AbstractRange{Rational{Int64}}, DenseArray{Rational{Int64},1}, PermutedDimsArray{Rational{Int64},1,perm,iperm,AA} where AA<:AbstractArray where iperm where perm, AbstractSparseArray{Rational{Int64},Ti,1} where Ti, TrivialView{A,Rational{Int64},1} where A, StaticArray{S,Rational{Int64},1} where S<:Tuple, SubArray{Rational{Int64},1,P,I,L} where L where I where P, GenericArray{Rational{Int64},1}]\n"
     ]
    }
   ],
   "source": [
    "@show typeof([2//3, 3//2]);\n",
    "show_supertypes(Array{Rational{Int64},1})\n",
    "@show subtypes(AbstractArray{Rational{Int64},1});"
   ]
  },
  {
   "cell_type": "markdown",
   "metadata": {},
   "source": [
    "### Exercise 1 (Solutions)\n",
    "\n",
    "In the first instance, we just look at the concrete type of the number 2 which is Int64. This is just an integer and we show it's type hierarchy. As we can see, it's just a type of number (passing through integer and real).\n",
    "\n",
    "In the second example, we take two thirds which is a rational. One of the  abstraact supertypes is Real which we break down and see that it contains integers and rationals, but also AbstractFloats and AbstractIrrational. These are all kinds of numbers on the real line.\n",
    "\n",
    "In the third example, we have an array of Rationals. Now when looking the supertypes here, we find that it just abstracts to more abstract versions of Rationals without going through the supertypes of rational (which is interesting). Finally looking at the subtypes of one of these abstracts, we find a lot of different things (e.g. AbstractSparseArray), but which are all on Rationals."
   ]
  },
  {
   "cell_type": "code",
   "execution_count": 14,
   "metadata": {},
   "outputs": [
    {
     "name": "stdout",
     "output_type": "stream",
     "text": [
      "  10.784 ns (0 allocations: 0 bytes)\n",
      "  49.510 ns (1 allocation: 160 bytes)\n",
      "  50.430 ns (1 allocation: 160 bytes)\n",
      "  51.238 ns (1 allocation: 160 bytes)\n",
      "  48.640 ns (0 allocations: 0 bytes)\n",
      "  196.778 ns (4 allocations: 640 bytes)\n"
     ]
    },
    {
     "data": {
      "text/plain": [
       "3×3 Array{Int64,2}:\n",
       "  4083785382380323840   8167570764760647680  -2111602544188256256\n",
       " -4223205088376512512  -8446410176753025024   1553923720203501568\n",
       "  3107847440407003136   6215694880814006272  -6015354312081539072"
      ]
     },
     "execution_count": 14,
     "metadata": {},
     "output_type": "execute_result"
    }
   ],
   "source": [
    "using BenchmarkTools\n",
    "\n",
    "BStatic=@SMatrix [2.0 4.0 8.0;16.0 32.0 64.0; 128.0 256.0 512.0]\n",
    "BDense=[2 4 8; 16 32 64; 128 256 512]\n",
    "CStatic=@SMatrix [1 4 9;16 25 36;49 64 81]\n",
    "CDense=[1 4 9;16 25 36;49 64 81]\n",
    "\n",
    "@btime $BStatic * $CStatic\n",
    "@btime $BStatic * $CDense\n",
    "@btime $BDense * $CStatic\n",
    "@btime $BDense * $CDense\n",
    "\n",
    "#@btime inv($BStatic)\n",
    "#@btime inv($BDense)\n",
    "\n",
    "@btime $BStatic^10\n",
    "@btime $BDense^10"
   ]
  },
  {
   "cell_type": "markdown",
   "metadata": {},
   "source": [
    "From the operations above, we see that Static Arrays typically do better than Dense Arrays but this seems to be driven by the allocation to memory. If only one of the elements in the operation is dense then the result is allocated and it will take the same amount of time (or nearly) as if all of the elements were dense. Moreover, there seems to be some kind of multiplying effect. It's not that allocations just add 40 ns as seems to be the case in the first example, but it's a multiplicative effect as evidenced by the second set of calculations."
   ]
  },
  {
   "cell_type": "code",
   "execution_count": 51,
   "metadata": {},
   "outputs": [
    {
     "name": "stdout",
     "output_type": "stream",
     "text": [
      "  574.954 ns (0 allocations: 0 bytes)\n",
      "  1.048 μs (1 allocation: 1.98 KiB)\n"
     ]
    },
    {
     "data": {
      "text/plain": [
       "15×15 Array{Float64,2}:\n",
       " 4.01058  5.08293  2.94423  3.45191  …  4.24327  3.33631  4.6133   3.57584\n",
       " 3.95578  4.39783  3.79045  3.66242     5.11574  2.92646  4.89506  3.33249\n",
       " 5.13123  4.80708  3.85557  4.07694     4.46312  3.65855  4.5671   3.44932\n",
       " 3.60941  4.02607  2.86521  3.73166     3.66708  2.93916  4.03742  2.75429\n",
       " 4.92822  4.83576  3.59637  3.62645     4.38286  3.38643  4.75172  4.00969\n",
       " 5.32787  5.72513  4.12054  4.59779  …  5.2955   3.91901  5.19459  4.48733\n",
       " 3.31629  3.48116  3.17512  2.98331     3.5827   2.86496  3.16985  2.2038 \n",
       " 3.39987  4.28687  3.14473  3.37036     4.39087  2.24558  4.20119  3.21786\n",
       " 3.88172  4.36401  3.91852  3.86829     4.84973  3.24114  4.49374  3.21123\n",
       " 3.24178  3.66494  2.72352  2.88989     3.7771   3.08378  3.72115  2.98704\n",
       " 4.84628  5.36805  4.04773  4.2863   …  4.4545   3.42961  5.06897  3.40267\n",
       " 4.47902  4.7175   3.2091   3.60112     4.34518  3.52508  4.45514  3.47997\n",
       " 4.79683  5.20178  4.17907  4.24037     4.86592  2.83282  4.54675  3.91677\n",
       " 3.43287  3.78865  2.94932  2.82285     3.65213  2.55657  3.63861  3.00906\n",
       " 3.42737  2.99981  2.65046  2.92131     3.26777  1.75023  3.39321  2.168  "
      ]
     },
     "execution_count": 51,
     "metadata": {},
     "output_type": "execute_result"
    }
   ],
   "source": [
    "N1=15\n",
    "BStatic15=@SMatrix rand(N1,N1)\n",
    "CStatic15=@SMatrix rand(N1,N1)\n",
    "BDense15=rand(N1,N1);\n",
    "CDense15=rand(N1,N1);\n",
    "\n",
    "@btime $BStatic15*$CStatic15\n",
    "@btime $BDense15*$CDense15"
   ]
  },
  {
   "cell_type": "markdown",
   "metadata": {},
   "source": [
    "Here, we see that static is only twice as fast now as the dense versions."
   ]
  },
  {
   "cell_type": "markdown",
   "metadata": {},
   "source": [
    "### Exercise 2\n",
    "\n",
    "A key step in the calculation of the Kalman Filter is calculation of the Kalman gain, as can be seen with the following example using dense matrices from [this lecture](kalman)\n",
    "\n",
    "Using what you learned from Exercise 1, benchmark this using Static Arrays"
   ]
  },
  {
   "cell_type": "code",
   "execution_count": 26,
   "metadata": {},
   "outputs": [
    {
     "name": "stdout",
     "output_type": "stream",
     "text": [
      "  666.575 ns (10 allocations: 1.94 KiB)\n",
      "  9.411 ns (0 allocations: 0 bytes)\n",
      "  10.593 ns (0 allocations: 0 bytes)\n",
      "  156.455 ns (4 allocations: 448 bytes)\n"
     ]
    },
    {
     "data": {
      "text/plain": [
       "2×2 Array{Float64,2}:\n",
       " 0.666667     1.11022e-16\n",
       " 2.22045e-16  0.666667   "
      ]
     },
     "execution_count": 26,
     "metadata": {},
     "output_type": "execute_result"
    }
   ],
   "source": [
    "Σ = [0.4  0.3;\n",
    "    0.3 0.45]\n",
    "G = I\n",
    "R = 0.5 * Σ\n",
    "\n",
    "gain(Σ, G, R) = Σ * G' * inv(G * Σ * G' + R)\n",
    "@btime gain($Σ, $G, $R)\n",
    "\n",
    "ΣStatic= @SMatrix [0.4 0.3; 0.3 0.45]\n",
    "RStatic = 0.5 * ΣStatic\n",
    "\n",
    "@btime gain($ΣStatic,$G,$RStatic)\n",
    "@btime gain($ΣStatic,$G,$R)\n",
    "@btime gain($Σ, $G, $RStatic)"
   ]
  },
  {
   "cell_type": "markdown",
   "metadata": {},
   "source": [
    "We see that the gains are huge from Static Arrays in this case. They're more than 67 times faster than dense arrays. Again, this has to do with the number of allocations made in the dynamic sense rather than Static. What was interesting here though is that when I used the DenseArray version of R and $\\Sigma$ dense, there was almost no difference but when I made $\\Sigma$ dense and R static it made 4 allocations (less thatn 10) and 156 ns. What this says is that the gains from going to Static Arrays really depends on the operations."
   ]
  },
  {
   "cell_type": "markdown",
   "metadata": {},
   "source": [
    "### Exercise 3\n",
    "\n",
    "The [Polynomial.jl](https://github.com/JuliaMath/Polynomials.jl) provides a package for simple univariate Polynomials\n",
    "\n",
    "Plot both `p(x)` and `p′(x)` for $ x \\in [-2, 2] $"
   ]
  },
  {
   "cell_type": "code",
   "execution_count": 35,
   "metadata": {},
   "outputs": [
    {
     "name": "stdout",
     "output_type": "stream",
     "text": [
      "p = Poly(2.0 - 5.0*x + 2.0*x^2)\n",
      "(p(0.1), p′(0.1)) = (1.52, -4.6)\n",
      "roots(p) = [2.0, 0.5]\n"
     ]
    },
    {
     "data": {
      "text/plain": [
       "f (generic function with 1 method)"
      ]
     },
     "execution_count": 35,
     "metadata": {},
     "output_type": "execute_result"
    }
   ],
   "source": [
    "p = Poly([2.0, -5.0, 2.0], :x) # :x just gives a symbol for display\n",
    "@show p\n",
    "p′ = polyder(p) # gives the derivative of p, another polynomial\n",
    "@show p(0.1), p′(0.1) # call like a function\n",
    "@show roots(p); # find roots such that p(x) = 0\n",
    "\n",
    "f(x)=2-5*x+2*x^2"
   ]
  },
  {
   "cell_type": "code",
   "execution_count": 47,
   "metadata": {},
   "outputs": [
    {
     "data": {
      "image/svg+xml": [
       "<?xml version=\"1.0\" encoding=\"utf-8\"?>\n",
       "<svg xmlns=\"http://www.w3.org/2000/svg\" xmlns:xlink=\"http://www.w3.org/1999/xlink\" width=\"600\" height=\"400\" viewBox=\"0 0 2400 1600\">\n",
       "<defs>\n",
       "  <clipPath id=\"clip3600\">\n",
       "    <rect x=\"0\" y=\"0\" width=\"2000\" height=\"2000\"/>\n",
       "  </clipPath>\n",
       "</defs>\n",
       "<defs>\n",
       "  <clipPath id=\"clip3601\">\n",
       "    <rect x=\"0\" y=\"0\" width=\"2400\" height=\"1600\"/>\n",
       "  </clipPath>\n",
       "</defs>\n",
       "<polygon clip-path=\"url(#clip3601)\" points=\"\n",
       "0,1600 2400,1600 2400,0 0,0 \n",
       "  \" fill=\"#ffffff\" fill-opacity=\"1\"/>\n",
       "<defs>\n",
       "  <clipPath id=\"clip3602\">\n",
       "    <rect x=\"480\" y=\"0\" width=\"1681\" height=\"1600\"/>\n",
       "  </clipPath>\n",
       "</defs>\n",
       "<polygon clip-path=\"url(#clip3601)\" points=\"\n",
       "176.123,1503.47 2321.26,1503.47 2321.26,47.2441 176.123,47.2441 \n",
       "  \" fill=\"#ffffff\" fill-opacity=\"1\"/>\n",
       "<defs>\n",
       "  <clipPath id=\"clip3603\">\n",
       "    <rect x=\"176\" y=\"47\" width=\"2146\" height=\"1457\"/>\n",
       "  </clipPath>\n",
       "</defs>\n",
       "<polyline clip-path=\"url(#clip3603)\" style=\"stroke:#000000; stroke-width:2; stroke-opacity:0.1; fill:none\" points=\"\n",
       "  236.834,1503.47 236.834,47.2441 \n",
       "  \"/>\n",
       "<polyline clip-path=\"url(#clip3603)\" style=\"stroke:#000000; stroke-width:2; stroke-opacity:0.1; fill:none\" points=\"\n",
       "  742.763,1503.47 742.763,47.2441 \n",
       "  \"/>\n",
       "<polyline clip-path=\"url(#clip3603)\" style=\"stroke:#000000; stroke-width:2; stroke-opacity:0.1; fill:none\" points=\"\n",
       "  1248.69,1503.47 1248.69,47.2441 \n",
       "  \"/>\n",
       "<polyline clip-path=\"url(#clip3603)\" style=\"stroke:#000000; stroke-width:2; stroke-opacity:0.1; fill:none\" points=\"\n",
       "  1754.62,1503.47 1754.62,47.2441 \n",
       "  \"/>\n",
       "<polyline clip-path=\"url(#clip3603)\" style=\"stroke:#000000; stroke-width:2; stroke-opacity:0.1; fill:none\" points=\"\n",
       "  2260.55,1503.47 2260.55,47.2441 \n",
       "  \"/>\n",
       "<polyline clip-path=\"url(#clip3603)\" style=\"stroke:#000000; stroke-width:2; stroke-opacity:0.1; fill:none\" points=\"\n",
       "  176.123,1337.37 2321.26,1337.37 \n",
       "  \"/>\n",
       "<polyline clip-path=\"url(#clip3603)\" style=\"stroke:#000000; stroke-width:2; stroke-opacity:0.1; fill:none\" points=\"\n",
       "  176.123,921.066 2321.26,921.066 \n",
       "  \"/>\n",
       "<polyline clip-path=\"url(#clip3603)\" style=\"stroke:#000000; stroke-width:2; stroke-opacity:0.1; fill:none\" points=\"\n",
       "  176.123,504.762 2321.26,504.762 \n",
       "  \"/>\n",
       "<polyline clip-path=\"url(#clip3603)\" style=\"stroke:#000000; stroke-width:2; stroke-opacity:0.1; fill:none\" points=\"\n",
       "  176.123,88.4582 2321.26,88.4582 \n",
       "  \"/>\n",
       "<polyline clip-path=\"url(#clip3601)\" style=\"stroke:#000000; stroke-width:4; stroke-opacity:1; fill:none\" points=\"\n",
       "  176.123,1503.47 2321.26,1503.47 \n",
       "  \"/>\n",
       "<polyline clip-path=\"url(#clip3601)\" style=\"stroke:#000000; stroke-width:4; stroke-opacity:1; fill:none\" points=\"\n",
       "  176.123,1503.47 176.123,47.2441 \n",
       "  \"/>\n",
       "<polyline clip-path=\"url(#clip3601)\" style=\"stroke:#000000; stroke-width:4; stroke-opacity:1; fill:none\" points=\"\n",
       "  236.834,1503.47 236.834,1481.63 \n",
       "  \"/>\n",
       "<polyline clip-path=\"url(#clip3601)\" style=\"stroke:#000000; stroke-width:4; stroke-opacity:1; fill:none\" points=\"\n",
       "  742.763,1503.47 742.763,1481.63 \n",
       "  \"/>\n",
       "<polyline clip-path=\"url(#clip3601)\" style=\"stroke:#000000; stroke-width:4; stroke-opacity:1; fill:none\" points=\"\n",
       "  1248.69,1503.47 1248.69,1481.63 \n",
       "  \"/>\n",
       "<polyline clip-path=\"url(#clip3601)\" style=\"stroke:#000000; stroke-width:4; stroke-opacity:1; fill:none\" points=\"\n",
       "  1754.62,1503.47 1754.62,1481.63 \n",
       "  \"/>\n",
       "<polyline clip-path=\"url(#clip3601)\" style=\"stroke:#000000; stroke-width:4; stroke-opacity:1; fill:none\" points=\"\n",
       "  2260.55,1503.47 2260.55,1481.63 \n",
       "  \"/>\n",
       "<polyline clip-path=\"url(#clip3601)\" style=\"stroke:#000000; stroke-width:4; stroke-opacity:1; fill:none\" points=\"\n",
       "  176.123,1337.37 208.3,1337.37 \n",
       "  \"/>\n",
       "<polyline clip-path=\"url(#clip3601)\" style=\"stroke:#000000; stroke-width:4; stroke-opacity:1; fill:none\" points=\"\n",
       "  176.123,921.066 208.3,921.066 \n",
       "  \"/>\n",
       "<polyline clip-path=\"url(#clip3601)\" style=\"stroke:#000000; stroke-width:4; stroke-opacity:1; fill:none\" points=\"\n",
       "  176.123,504.762 208.3,504.762 \n",
       "  \"/>\n",
       "<polyline clip-path=\"url(#clip3601)\" style=\"stroke:#000000; stroke-width:4; stroke-opacity:1; fill:none\" points=\"\n",
       "  176.123,88.4582 208.3,88.4582 \n",
       "  \"/>\n",
       "<g clip-path=\"url(#clip3601)\">\n",
       "<text style=\"fill:#000000; fill-opacity:1; font-family:Arial,Helvetica Neue,Helvetica,sans-serif; font-size:48; text-anchor:middle;\" transform=\"rotate(0, 236.834, 1557.47)\" x=\"236.834\" y=\"1557.47\">-2</text>\n",
       "</g>\n",
       "<g clip-path=\"url(#clip3601)\">\n",
       "<text style=\"fill:#000000; fill-opacity:1; font-family:Arial,Helvetica Neue,Helvetica,sans-serif; font-size:48; text-anchor:middle;\" transform=\"rotate(0, 742.763, 1557.47)\" x=\"742.763\" y=\"1557.47\">-1</text>\n",
       "</g>\n",
       "<g clip-path=\"url(#clip3601)\">\n",
       "<text style=\"fill:#000000; fill-opacity:1; font-family:Arial,Helvetica Neue,Helvetica,sans-serif; font-size:48; text-anchor:middle;\" transform=\"rotate(0, 1248.69, 1557.47)\" x=\"1248.69\" y=\"1557.47\">0</text>\n",
       "</g>\n",
       "<g clip-path=\"url(#clip3601)\">\n",
       "<text style=\"fill:#000000; fill-opacity:1; font-family:Arial,Helvetica Neue,Helvetica,sans-serif; font-size:48; text-anchor:middle;\" transform=\"rotate(0, 1754.62, 1557.47)\" x=\"1754.62\" y=\"1557.47\">1</text>\n",
       "</g>\n",
       "<g clip-path=\"url(#clip3601)\">\n",
       "<text style=\"fill:#000000; fill-opacity:1; font-family:Arial,Helvetica Neue,Helvetica,sans-serif; font-size:48; text-anchor:middle;\" transform=\"rotate(0, 2260.55, 1557.47)\" x=\"2260.55\" y=\"1557.47\">2</text>\n",
       "</g>\n",
       "<g clip-path=\"url(#clip3601)\">\n",
       "<text style=\"fill:#000000; fill-opacity:1; font-family:Arial,Helvetica Neue,Helvetica,sans-serif; font-size:48; text-anchor:end;\" transform=\"rotate(0, 152.123, 1354.87)\" x=\"152.123\" y=\"1354.87\">-10</text>\n",
       "</g>\n",
       "<g clip-path=\"url(#clip3601)\">\n",
       "<text style=\"fill:#000000; fill-opacity:1; font-family:Arial,Helvetica Neue,Helvetica,sans-serif; font-size:48; text-anchor:end;\" transform=\"rotate(0, 152.123, 938.566)\" x=\"152.123\" y=\"938.566\">0</text>\n",
       "</g>\n",
       "<g clip-path=\"url(#clip3601)\">\n",
       "<text style=\"fill:#000000; fill-opacity:1; font-family:Arial,Helvetica Neue,Helvetica,sans-serif; font-size:48; text-anchor:end;\" transform=\"rotate(0, 152.123, 522.262)\" x=\"152.123\" y=\"522.262\">10</text>\n",
       "</g>\n",
       "<g clip-path=\"url(#clip3601)\">\n",
       "<text style=\"fill:#000000; fill-opacity:1; font-family:Arial,Helvetica Neue,Helvetica,sans-serif; font-size:48; text-anchor:end;\" transform=\"rotate(0, 152.123, 105.958)\" x=\"152.123\" y=\"105.958\">20</text>\n",
       "</g>\n",
       "<polyline clip-path=\"url(#clip3603)\" style=\"stroke:#009af9; stroke-width:4; stroke-opacity:1; fill:none\" points=\"\n",
       "  236.834,88.4582 241.894,93.8618 246.953,99.2488 252.012,104.619 257.072,109.973 262.131,115.31 267.19,120.63 272.249,125.934 277.309,131.221 282.368,136.491 \n",
       "  287.427,141.745 292.487,146.982 297.546,152.203 302.605,157.406 307.664,162.594 312.724,167.764 317.783,172.918 322.842,178.055 327.902,183.176 332.961,188.279 \n",
       "  338.02,193.367 343.079,198.437 348.139,203.491 353.198,208.529 358.257,213.549 363.317,218.553 368.376,223.54 373.435,228.511 378.494,233.465 383.554,238.402 \n",
       "  388.613,243.323 393.672,248.227 398.731,253.115 403.791,257.985 408.85,262.839 413.909,267.677 418.969,272.498 424.028,277.302 429.087,282.089 434.146,286.86 \n",
       "  439.206,291.614 444.265,296.352 449.324,301.073 454.384,305.777 459.443,310.465 464.502,315.136 469.561,319.79 474.621,324.427 479.68,329.048 484.739,333.653 \n",
       "  489.799,338.24 494.858,342.811 499.917,347.366 504.976,351.904 510.036,356.425 515.095,360.929 520.154,365.417 525.214,369.888 530.273,374.342 535.332,378.78 \n",
       "  540.391,383.201 545.451,387.606 550.51,391.994 555.569,396.365 560.629,400.719 565.688,405.057 570.747,409.378 575.806,413.683 580.866,417.971 585.925,422.242 \n",
       "  590.984,426.497 596.044,430.735 601.103,434.956 606.162,439.161 611.221,443.349 616.281,447.52 621.34,451.675 626.399,455.813 631.459,459.934 636.518,464.039 \n",
       "  641.577,468.127 646.636,472.199 651.696,476.253 656.755,480.292 661.814,484.313 666.874,488.318 671.933,492.306 676.992,496.278 682.051,500.233 687.111,504.171 \n",
       "  692.17,508.092 697.229,511.997 702.289,515.886 707.348,519.757 712.407,523.612 717.466,527.451 722.526,531.272 727.585,535.077 732.644,538.866 737.704,542.637 \n",
       "  742.763,546.392 747.822,550.131 752.881,553.852 757.941,557.558 763,561.246 768.059,564.918 773.119,568.573 778.178,572.211 783.237,575.833 788.296,579.439 \n",
       "  793.356,583.027 798.415,586.599 803.474,590.154 808.534,593.693 813.593,597.215 818.652,600.72 823.711,604.209 828.771,607.681 833.83,611.136 838.889,614.575 \n",
       "  843.949,617.997 849.008,621.402 854.067,624.791 859.126,628.163 864.186,631.518 869.245,634.857 874.304,638.179 879.364,641.484 884.423,644.773 889.482,648.045 \n",
       "  894.541,651.301 899.601,654.54 904.66,657.762 909.719,660.967 914.779,664.156 919.838,667.329 924.897,670.484 929.956,673.623 935.016,676.745 940.075,679.851 \n",
       "  945.134,682.94 950.194,686.012 955.253,689.068 960.312,692.107 965.371,695.129 970.431,698.135 975.49,701.124 980.549,704.097 985.609,707.052 990.668,709.991 \n",
       "  995.727,712.914 1000.79,715.82 1005.85,718.709 1010.9,721.581 1015.96,724.437 1021.02,727.276 1026.08,730.099 1031.14,732.905 1036.2,735.694 1041.26,738.467 \n",
       "  1046.32,741.223 1051.38,743.962 1056.44,746.684 1061.5,749.39 1066.56,752.08 1071.62,754.752 1076.68,757.408 1081.73,760.048 1086.79,762.67 1091.85,765.277 \n",
       "  1096.91,767.866 1101.97,770.439 1107.03,772.995 1112.09,775.534 1117.15,778.057 1122.21,780.563 1127.27,783.053 1132.33,785.526 1137.39,787.982 1142.45,790.421 \n",
       "  1147.51,792.844 1152.56,795.25 1157.62,797.64 1162.68,800.013 1167.74,802.369 1172.8,804.709 1177.86,807.032 1182.92,809.338 1187.98,811.628 1193.04,813.901 \n",
       "  1198.1,816.157 1203.16,818.397 1208.22,820.62 1213.28,822.826 1218.34,825.016 1223.39,827.189 1228.45,829.346 1233.51,831.485 1238.57,833.609 1243.63,835.715 \n",
       "  1248.69,837.805 1253.75,839.878 1258.81,841.935 1263.87,843.975 1268.93,845.998 1273.99,848.004 1279.05,849.994 1284.11,851.968 1289.17,853.924 1294.22,855.864 \n",
       "  1299.28,857.788 1304.34,859.694 1309.4,861.584 1314.46,863.458 1319.52,865.314 1324.58,867.154 1329.64,868.978 1334.7,870.785 1339.76,872.575 1344.82,874.348 \n",
       "  1349.88,876.105 1354.94,877.845 1360,879.569 1365.05,881.275 1370.11,882.966 1375.17,884.639 1380.23,886.296 1385.29,887.936 1390.35,889.56 1395.41,891.167 \n",
       "  1400.47,892.757 1405.53,894.331 1410.59,895.888 1415.65,897.428 1420.71,898.952 1425.77,900.459 1430.83,901.949 1435.88,903.423 1440.94,904.88 1446,906.32 \n",
       "  1451.06,907.744 1456.12,909.151 1461.18,910.542 1466.24,911.915 1471.3,913.273 1476.36,914.613 1481.42,915.937 1486.48,917.244 1491.54,918.535 1496.6,919.808 \n",
       "  1501.66,921.066 1506.71,922.306 1511.77,923.53 1516.83,924.738 1521.89,925.928 1526.95,927.102 1532.01,928.259 1537.07,929.4 1542.13,930.524 1547.19,931.632 \n",
       "  1552.25,932.722 1557.31,933.796 1562.37,934.854 1567.43,935.894 1572.49,936.919 1577.54,937.926 1582.6,938.917 1587.66,939.891 1592.72,940.848 1597.78,941.789 \n",
       "  1602.84,942.714 1607.9,943.621 1612.96,944.512 1618.02,945.386 1623.08,946.244 1628.14,947.085 1633.2,947.909 1638.26,948.717 1643.32,949.508 1648.37,950.282 \n",
       "  1653.43,951.04 1658.49,951.781 1663.55,952.505 1668.61,953.213 1673.67,953.904 1678.73,954.578 1683.79,955.236 1688.85,955.877 1693.91,956.502 1698.97,957.109 \n",
       "  1704.03,957.7 1709.09,958.275 1714.15,958.833 1719.2,959.374 1724.26,959.899 1729.32,960.406 1734.38,960.898 1739.44,961.372 1744.5,961.83 1749.56,962.271 \n",
       "  1754.62,962.696 1759.68,963.104 1764.74,963.495 1769.8,963.87 1774.86,964.228 1779.92,964.569 1784.98,964.894 1790.03,965.202 1795.09,965.494 1800.15,965.768 \n",
       "  1805.21,966.027 1810.27,966.268 1815.33,966.493 1820.39,966.701 1825.45,966.892 1830.51,967.067 1835.57,967.225 1840.63,967.367 1845.69,967.492 1850.75,967.6 \n",
       "  1855.81,967.692 1860.86,967.767 1865.92,967.825 1870.98,967.867 1876.04,967.892 1881.1,967.9 1886.16,967.892 1891.22,967.867 1896.28,967.825 1901.34,967.767 \n",
       "  1906.4,967.692 1911.46,967.6 1916.52,967.492 1921.58,967.367 1926.64,967.225 1931.69,967.067 1936.75,966.892 1941.81,966.701 1946.87,966.493 1951.93,966.268 \n",
       "  1956.99,966.027 1962.05,965.768 1967.11,965.494 1972.17,965.202 1977.23,964.894 1982.29,964.569 1987.35,964.228 1992.41,963.87 1997.47,963.495 2002.52,963.104 \n",
       "  2007.58,962.696 2012.64,962.271 2017.7,961.83 2022.76,961.372 2027.82,960.898 2032.88,960.406 2037.94,959.899 2043,959.374 2048.06,958.833 2053.12,958.275 \n",
       "  2058.18,957.7 2063.24,957.109 2068.3,956.502 2073.35,955.877 2078.41,955.236 2083.47,954.578 2088.53,953.904 2093.59,953.213 2098.65,952.505 2103.71,951.781 \n",
       "  2108.77,951.04 2113.83,950.282 2118.89,949.508 2123.95,948.717 2129.01,947.909 2134.07,947.085 2139.13,946.244 2144.18,945.386 2149.24,944.512 2154.3,943.621 \n",
       "  2159.36,942.714 2164.42,941.789 2169.48,940.848 2174.54,939.891 2179.6,938.917 2184.66,937.926 2189.72,936.919 2194.78,935.894 2199.84,934.854 2204.9,933.796 \n",
       "  2209.96,932.722 2215.01,931.632 2220.07,930.524 2225.13,929.4 2230.19,928.259 2235.25,927.102 2240.31,925.928 2245.37,924.738 2250.43,923.53 2255.49,922.306 \n",
       "  2260.55,921.066 \n",
       "  \"/>\n",
       "<polyline clip-path=\"url(#clip3603)\" style=\"stroke:#e26f46; stroke-width:4; stroke-opacity:1; fill:none\" points=\"\n",
       "  236.834,1462.26 241.894,1460.6 246.953,1458.93 252.012,1457.27 257.072,1455.6 262.131,1453.93 267.19,1452.27 272.249,1450.6 277.309,1448.94 282.368,1447.27 \n",
       "  287.427,1445.61 292.487,1443.94 297.546,1442.28 302.605,1440.61 307.664,1438.95 312.724,1437.28 317.783,1435.62 322.842,1433.95 327.902,1432.29 332.961,1430.62 \n",
       "  338.02,1428.96 343.079,1427.29 348.139,1425.63 353.198,1423.96 358.257,1422.3 363.317,1420.63 368.376,1418.97 373.435,1417.3 378.494,1415.63 383.554,1413.97 \n",
       "  388.613,1412.3 393.672,1410.64 398.731,1408.97 403.791,1407.31 408.85,1405.64 413.909,1403.98 418.969,1402.31 424.028,1400.65 429.087,1398.98 434.146,1397.32 \n",
       "  439.206,1395.65 444.265,1393.99 449.324,1392.32 454.384,1390.66 459.443,1388.99 464.502,1387.33 469.561,1385.66 474.621,1384 479.68,1382.33 484.739,1380.67 \n",
       "  489.799,1379 494.858,1377.33 499.917,1375.67 504.976,1374 510.036,1372.34 515.095,1370.67 520.154,1369.01 525.214,1367.34 530.273,1365.68 535.332,1364.01 \n",
       "  540.391,1362.35 545.451,1360.68 550.51,1359.02 555.569,1357.35 560.629,1355.69 565.688,1354.02 570.747,1352.36 575.806,1350.69 580.866,1349.03 585.925,1347.36 \n",
       "  590.984,1345.7 596.044,1344.03 601.103,1342.37 606.162,1340.7 611.221,1339.03 616.281,1337.37 621.34,1335.7 626.399,1334.04 631.459,1332.37 636.518,1330.71 \n",
       "  641.577,1329.04 646.636,1327.38 651.696,1325.71 656.755,1324.05 661.814,1322.38 666.874,1320.72 671.933,1319.05 676.992,1317.39 682.051,1315.72 687.111,1314.06 \n",
       "  692.17,1312.39 697.229,1310.73 702.289,1309.06 707.348,1307.4 712.407,1305.73 717.466,1304.07 722.526,1302.4 727.585,1300.73 732.644,1299.07 737.704,1297.4 \n",
       "  742.763,1295.74 747.822,1294.07 752.881,1292.41 757.941,1290.74 763,1289.08 768.059,1287.41 773.119,1285.75 778.178,1284.08 783.237,1282.42 788.296,1280.75 \n",
       "  793.356,1279.09 798.415,1277.42 803.474,1275.76 808.534,1274.09 813.593,1272.43 818.652,1270.76 823.711,1269.1 828.771,1267.43 833.83,1265.77 838.889,1264.1 \n",
       "  843.949,1262.43 849.008,1260.77 854.067,1259.1 859.126,1257.44 864.186,1255.77 869.245,1254.11 874.304,1252.44 879.364,1250.78 884.423,1249.11 889.482,1247.45 \n",
       "  894.541,1245.78 899.601,1244.12 904.66,1242.45 909.719,1240.79 914.779,1239.12 919.838,1237.46 924.897,1235.79 929.956,1234.13 935.016,1232.46 940.075,1230.8 \n",
       "  945.134,1229.13 950.194,1227.47 955.253,1225.8 960.312,1224.13 965.371,1222.47 970.431,1220.8 975.49,1219.14 980.549,1217.47 985.609,1215.81 990.668,1214.14 \n",
       "  995.727,1212.48 1000.79,1210.81 1005.85,1209.15 1010.9,1207.48 1015.96,1205.82 1021.02,1204.15 1026.08,1202.49 1031.14,1200.82 1036.2,1199.16 1041.26,1197.49 \n",
       "  1046.32,1195.83 1051.38,1194.16 1056.44,1192.5 1061.5,1190.83 1066.56,1189.17 1071.62,1187.5 1076.68,1185.83 1081.73,1184.17 1086.79,1182.5 1091.85,1180.84 \n",
       "  1096.91,1179.17 1101.97,1177.51 1107.03,1175.84 1112.09,1174.18 1117.15,1172.51 1122.21,1170.85 1127.27,1169.18 1132.33,1167.52 1137.39,1165.85 1142.45,1164.19 \n",
       "  1147.51,1162.52 1152.56,1160.86 1157.62,1159.19 1162.68,1157.53 1167.74,1155.86 1172.8,1154.2 1177.86,1152.53 1182.92,1150.87 1187.98,1149.2 1193.04,1147.53 \n",
       "  1198.1,1145.87 1203.16,1144.2 1208.22,1142.54 1213.28,1140.87 1218.34,1139.21 1223.39,1137.54 1228.45,1135.88 1233.51,1134.21 1238.57,1132.55 1243.63,1130.88 \n",
       "  1248.69,1129.22 1253.75,1127.55 1258.81,1125.89 1263.87,1124.22 1268.93,1122.56 1273.99,1120.89 1279.05,1119.23 1284.11,1117.56 1289.17,1115.9 1294.22,1114.23 \n",
       "  1299.28,1112.57 1304.34,1110.9 1309.4,1109.24 1314.46,1107.57 1319.52,1105.9 1324.58,1104.24 1329.64,1102.57 1334.7,1100.91 1339.76,1099.24 1344.82,1097.58 \n",
       "  1349.88,1095.91 1354.94,1094.25 1360,1092.58 1365.05,1090.92 1370.11,1089.25 1375.17,1087.59 1380.23,1085.92 1385.29,1084.26 1390.35,1082.59 1395.41,1080.93 \n",
       "  1400.47,1079.26 1405.53,1077.6 1410.59,1075.93 1415.65,1074.27 1420.71,1072.6 1425.77,1070.94 1430.83,1069.27 1435.88,1067.6 1440.94,1065.94 1446,1064.27 \n",
       "  1451.06,1062.61 1456.12,1060.94 1461.18,1059.28 1466.24,1057.61 1471.3,1055.95 1476.36,1054.28 1481.42,1052.62 1486.48,1050.95 1491.54,1049.29 1496.6,1047.62 \n",
       "  1501.66,1045.96 1506.71,1044.29 1511.77,1042.63 1516.83,1040.96 1521.89,1039.3 1526.95,1037.63 1532.01,1035.97 1537.07,1034.3 1542.13,1032.64 1547.19,1030.97 \n",
       "  1552.25,1029.3 1557.31,1027.64 1562.37,1025.97 1567.43,1024.31 1572.49,1022.64 1577.54,1020.98 1582.6,1019.31 1587.66,1017.65 1592.72,1015.98 1597.78,1014.32 \n",
       "  1602.84,1012.65 1607.9,1010.99 1612.96,1009.32 1618.02,1007.66 1623.08,1005.99 1628.14,1004.33 1633.2,1002.66 1638.26,1001 1643.32,999.331 1648.37,997.666 \n",
       "  1653.43,996 1658.49,994.335 1663.55,992.67 1668.61,991.005 1673.67,989.34 1678.73,987.674 1683.79,986.009 1688.85,984.344 1693.91,982.679 1698.97,981.013 \n",
       "  1704.03,979.348 1709.09,977.683 1714.15,976.018 1719.2,974.353 1724.26,972.687 1729.32,971.022 1734.38,969.357 1739.44,967.692 1744.5,966.027 1749.56,964.361 \n",
       "  1754.62,962.696 1759.68,961.031 1764.74,959.366 1769.8,957.7 1774.86,956.035 1779.92,954.37 1784.98,952.705 1790.03,951.04 1795.09,949.374 1800.15,947.709 \n",
       "  1805.21,946.044 1810.27,944.379 1815.33,942.714 1820.39,941.048 1825.45,939.383 1830.51,937.718 1835.57,936.053 1840.63,934.387 1845.69,932.722 1850.75,931.057 \n",
       "  1855.81,929.392 1860.86,927.727 1865.92,926.061 1870.98,924.396 1876.04,922.731 1881.1,921.066 1886.16,919.401 1891.22,917.735 1896.28,916.07 1901.34,914.405 \n",
       "  1906.4,912.74 1911.46,911.074 1916.52,909.409 1921.58,907.744 1926.64,906.079 1931.69,904.414 1936.75,902.748 1941.81,901.083 1946.87,899.418 1951.93,897.753 \n",
       "  1956.99,896.088 1962.05,894.422 1967.11,892.757 1972.17,891.092 1977.23,889.427 1982.29,887.761 1987.35,886.096 1992.41,884.431 1997.47,882.766 2002.52,881.101 \n",
       "  2007.58,879.435 2012.64,877.77 2017.7,876.105 2022.76,874.44 2027.82,872.774 2032.88,871.109 2037.94,869.444 2043,867.779 2048.06,866.114 2053.12,864.448 \n",
       "  2058.18,862.783 2063.24,861.118 2068.3,859.453 2073.35,857.788 2078.41,856.122 2083.47,854.457 2088.53,852.792 2093.59,851.127 2098.65,849.461 2103.71,847.796 \n",
       "  2108.77,846.131 2113.83,844.466 2118.89,842.801 2123.95,841.135 2129.01,839.47 2134.07,837.805 2139.13,836.14 2144.18,834.475 2149.24,832.809 2154.3,831.144 \n",
       "  2159.36,829.479 2164.42,827.814 2169.48,826.148 2174.54,824.483 2179.6,822.818 2184.66,821.153 2189.72,819.488 2194.78,817.822 2199.84,816.157 2204.9,814.492 \n",
       "  2209.96,812.827 2215.01,811.162 2220.07,809.496 2225.13,807.831 2230.19,806.166 2235.25,804.501 2240.31,802.835 2245.37,801.17 2250.43,799.505 2255.49,797.84 \n",
       "  2260.55,796.175 \n",
       "  \"/>\n",
       "<polygon clip-path=\"url(#clip3601)\" points=\"\n",
       "1971.81,312.204 2249.26,312.204 2249.26,130.764 1971.81,130.764 \n",
       "  \" fill=\"#ffffff\" fill-opacity=\"1\"/>\n",
       "<polyline clip-path=\"url(#clip3601)\" style=\"stroke:#000000; stroke-width:4; stroke-opacity:1; fill:none\" points=\"\n",
       "  1971.81,312.204 2249.26,312.204 2249.26,130.764 1971.81,130.764 1971.81,312.204 \n",
       "  \"/>\n",
       "<polyline clip-path=\"url(#clip3601)\" style=\"stroke:#009af9; stroke-width:4; stroke-opacity:1; fill:none\" points=\"\n",
       "  1995.81,191.244 2139.81,191.244 \n",
       "  \"/>\n",
       "<g clip-path=\"url(#clip3601)\">\n",
       "<text style=\"fill:#000000; fill-opacity:1; font-family:Arial,Helvetica Neue,Helvetica,sans-serif; font-size:48; text-anchor:start;\" transform=\"rotate(0, 2163.81, 208.744)\" x=\"2163.81\" y=\"208.744\">p</text>\n",
       "</g>\n",
       "<polyline clip-path=\"url(#clip3601)\" style=\"stroke:#e26f46; stroke-width:4; stroke-opacity:1; fill:none\" points=\"\n",
       "  1995.81,251.724 2139.81,251.724 \n",
       "  \"/>\n",
       "<g clip-path=\"url(#clip3601)\">\n",
       "<text style=\"fill:#000000; fill-opacity:1; font-family:Arial,Helvetica Neue,Helvetica,sans-serif; font-size:48; text-anchor:start;\" transform=\"rotate(0, 2163.81, 269.224)\" x=\"2163.81\" y=\"269.224\">p&apos;</text>\n",
       "</g>\n",
       "</svg>\n"
      ]
     },
     "execution_count": 47,
     "metadata": {},
     "output_type": "execute_result"
    }
   ],
   "source": [
    "x=-2:.01:2\n",
    "values=hcat(polyval(p,x),polyval(p′,x))\n",
    "plot(x,values, label=[\"p\", \"p'\"])"
   ]
  },
  {
   "cell_type": "markdown",
   "metadata": {},
   "source": [
    "### Exercise 4\n",
    "\n",
    "Using your solution to Exercise 8(a/b) in the [Julia By Example Lecture](julia_by_example) to create a specialized version of Newton’s method for Polynomials, using the `polyder` function\n",
    "\n",
    "The signature of the function should be `newtonsmethod(p::Poly, x_0; tolerance = 1E-7, maxiter = 100)`, where the `p::Poly` ensure that this version of the function will be used anytime a polynomial is passed (i.e. dispatch)\n",
    "\n",
    "Compare the results of this function to the built in `roots(p)`"
   ]
  },
  {
   "cell_type": "code",
   "execution_count": 11,
   "metadata": {},
   "outputs": [
    {
     "name": "stdout",
     "output_type": "stream",
     "text": [
      "newtonsmethod(polynomial1) = (value = 0.5, diff = 3.4924596548080444e-10, iter = 5)\n",
      "roots(polynomial1) = [2.0, 0.5]\n"
     ]
    },
    {
     "data": {
      "text/plain": [
       "2-element Array{Float64,1}:\n",
       " 2.0\n",
       " 0.5"
      ]
     },
     "execution_count": 11,
     "metadata": {},
     "output_type": "execute_result"
    }
   ],
   "source": [
    "function newtonsmethod(p::Poly, x_0=0;tolerance=1E-7,maxiter=100)\n",
    "    x_old=x_0\n",
    "    iter=0\n",
    "    diff=1000\n",
    "    pprime = polyder(p)\n",
    "    while diff>tolerance && iter<maxiter \n",
    "        x_new=x_old-p(x_old)/pprime(x_old)\n",
    "        iter=iter+1\n",
    "        diff=norm(x_old-x_new)\n",
    "        x_old=x_new\n",
    "    end\n",
    "    return(value=x_old,diff=diff,iter=iter)\n",
    "end\n",
    "polynomial1=Poly([2.0, -5.0, 2.0], :x)\n",
    "@show newtonsmethod(polynomial1)\n",
    "@show roots(polynomial1)"
   ]
  },
  {
   "cell_type": "markdown",
   "metadata": {},
   "source": [
    "Here we see that the newtons method was able to find one of the roots (0.5), but the built-in function was able to find both."
   ]
  },
  {
   "cell_type": "markdown",
   "metadata": {},
   "source": [
    "### Exercise 5 (Advanced)\n",
    "\n",
    "The [trapezoidal rule](https://en.wikipedia.org/wiki/Trapezoidal_rule)  approximate an integral with\n",
    "\n",
    "$$\n",
    "\\int_\\underline{x}^\\bar{x} f(x) \\, dx \\approx \\sum_{n=1}^N \\frac{f(x_{n-1}) + f(x_n)}{2} \\Delta x_n\n",
    "$$\n",
    "\n",
    "where $ x_0 = \\underline{x},\\, x_N = \\bar{x} $, and $ \\Delta x_n \\equiv x_{n-1} - x_n $\n",
    "\n",
    "Given an `x` and a function `f`, implement a few variations of the trapezoidal rule using multiple-dispatch\n",
    "\n",
    "- `trapezoidal(f, x)` for any `typeof(x) = AbstractArray` and `typeof(f) == AbstractArray` where `length(x) = length(f)`  \n",
    "- `trapezoidal(f, x)` for any `typeof(x) = AbstractRange` and `typeof(f) == AbstractArray` where `length(x) = length(f)`\n",
    "  * exploit the fact that `AbstractRange` have constant step sizes to specialize the algorithm  \n",
    "- `trapezoidal(f, x̲, x̄, N)` where `typeof(f) = Function`, and the other arguments are `Real`\n",
    "  * for this, build a uniform grid with `N` points on `[x̲,x̄]`, call the `f` function at those grid points, and use the existing `trapezoidal(f, x)` from the implementation  \n",
    "\n",
    "\n",
    "With these,\n",
    "1. Test each variation of the function with $ f(x) = x^2 $ with $ \\underline{x}=0,\\, \\bar{x} = 1 $\n",
    "2. From the analytical solution of the function, plot the error of `trapezoidal(f, x̲, x̄, N)` relative to the analytical solution for a grid of different `N` values\n",
    "3. Consider trying different functions for $ f(x) $ and comparing the solutions for various `N`\n",
    "\n",
    "When trying different functions, instead of integrating by hand consider using a high-accuracy library for numerical integration such as [QuadGK.jl](https://juliamath.github.io/QuadGK.jl/latest/)"
   ]
  },
  {
   "cell_type": "code",
   "execution_count": 47,
   "metadata": {},
   "outputs": [
    {
     "name": "stdout",
     "output_type": "stream",
     "text": [
      "trapezoidal(g0, x1) = 0.335\n",
      "trapezoidal(h0, x2) = 0.335\n",
      "trapezoidal(f0) = 0.335\n",
      "(quadgk(f0, 0, 1))[1] = 0.3333333333333333\n"
     ]
    },
    {
     "data": {
      "image/svg+xml": [
       "<?xml version=\"1.0\" encoding=\"utf-8\"?>\n",
       "<svg xmlns=\"http://www.w3.org/2000/svg\" xmlns:xlink=\"http://www.w3.org/1999/xlink\" width=\"600\" height=\"400\" viewBox=\"0 0 2400 1600\">\n",
       "<defs>\n",
       "  <clipPath id=\"clip4900\">\n",
       "    <rect x=\"0\" y=\"0\" width=\"2000\" height=\"2000\"/>\n",
       "  </clipPath>\n",
       "</defs>\n",
       "<defs>\n",
       "  <clipPath id=\"clip4901\">\n",
       "    <rect x=\"0\" y=\"0\" width=\"2400\" height=\"1600\"/>\n",
       "  </clipPath>\n",
       "</defs>\n",
       "<polygon clip-path=\"url(#clip4901)\" points=\"\n",
       "0,1600 2400,1600 2400,0 0,0 \n",
       "  \" fill=\"#ffffff\" fill-opacity=\"1\"/>\n",
       "<defs>\n",
       "  <clipPath id=\"clip4902\">\n",
       "    <rect x=\"480\" y=\"0\" width=\"1681\" height=\"1600\"/>\n",
       "  </clipPath>\n",
       "</defs>\n",
       "<polygon clip-path=\"url(#clip4901)\" points=\"\n",
       "241.681,1503.47 2321.26,1503.47 2321.26,47.2441 241.681,47.2441 \n",
       "  \" fill=\"#ffffff\" fill-opacity=\"1\"/>\n",
       "<defs>\n",
       "  <clipPath id=\"clip4903\">\n",
       "    <rect x=\"241\" y=\"47\" width=\"2081\" height=\"1457\"/>\n",
       "  </clipPath>\n",
       "</defs>\n",
       "<polyline clip-path=\"url(#clip4903)\" style=\"stroke:#000000; stroke-width:2; stroke-opacity:0.1; fill:none\" points=\"\n",
       "  280.72,1503.47 280.72,47.2441 \n",
       "  \"/>\n",
       "<polyline clip-path=\"url(#clip4903)\" style=\"stroke:#000000; stroke-width:2; stroke-opacity:0.1; fill:none\" points=\"\n",
       "  776.141,1503.47 776.141,47.2441 \n",
       "  \"/>\n",
       "<polyline clip-path=\"url(#clip4903)\" style=\"stroke:#000000; stroke-width:2; stroke-opacity:0.1; fill:none\" points=\"\n",
       "  1271.56,1503.47 1271.56,47.2441 \n",
       "  \"/>\n",
       "<polyline clip-path=\"url(#clip4903)\" style=\"stroke:#000000; stroke-width:2; stroke-opacity:0.1; fill:none\" points=\"\n",
       "  1766.98,1503.47 1766.98,47.2441 \n",
       "  \"/>\n",
       "<polyline clip-path=\"url(#clip4903)\" style=\"stroke:#000000; stroke-width:2; stroke-opacity:0.1; fill:none\" points=\"\n",
       "  2262.4,1503.47 2262.4,47.2441 \n",
       "  \"/>\n",
       "<polyline clip-path=\"url(#clip4903)\" style=\"stroke:#000000; stroke-width:2; stroke-opacity:0.1; fill:none\" points=\"\n",
       "  241.681,1473.92 2321.26,1473.92 \n",
       "  \"/>\n",
       "<polyline clip-path=\"url(#clip4903)\" style=\"stroke:#000000; stroke-width:2; stroke-opacity:0.1; fill:none\" points=\"\n",
       "  241.681,1058.28 2321.26,1058.28 \n",
       "  \"/>\n",
       "<polyline clip-path=\"url(#clip4903)\" style=\"stroke:#000000; stroke-width:2; stroke-opacity:0.1; fill:none\" points=\"\n",
       "  241.681,642.644 2321.26,642.644 \n",
       "  \"/>\n",
       "<polyline clip-path=\"url(#clip4903)\" style=\"stroke:#000000; stroke-width:2; stroke-opacity:0.1; fill:none\" points=\"\n",
       "  241.681,227.005 2321.26,227.005 \n",
       "  \"/>\n",
       "<polyline clip-path=\"url(#clip4901)\" style=\"stroke:#000000; stroke-width:4; stroke-opacity:1; fill:none\" points=\"\n",
       "  241.681,1503.47 2321.26,1503.47 \n",
       "  \"/>\n",
       "<polyline clip-path=\"url(#clip4901)\" style=\"stroke:#000000; stroke-width:4; stroke-opacity:1; fill:none\" points=\"\n",
       "  241.681,1503.47 241.681,47.2441 \n",
       "  \"/>\n",
       "<polyline clip-path=\"url(#clip4901)\" style=\"stroke:#000000; stroke-width:4; stroke-opacity:1; fill:none\" points=\"\n",
       "  280.72,1503.47 280.72,1481.63 \n",
       "  \"/>\n",
       "<polyline clip-path=\"url(#clip4901)\" style=\"stroke:#000000; stroke-width:4; stroke-opacity:1; fill:none\" points=\"\n",
       "  776.141,1503.47 776.141,1481.63 \n",
       "  \"/>\n",
       "<polyline clip-path=\"url(#clip4901)\" style=\"stroke:#000000; stroke-width:4; stroke-opacity:1; fill:none\" points=\"\n",
       "  1271.56,1503.47 1271.56,1481.63 \n",
       "  \"/>\n",
       "<polyline clip-path=\"url(#clip4901)\" style=\"stroke:#000000; stroke-width:4; stroke-opacity:1; fill:none\" points=\"\n",
       "  1766.98,1503.47 1766.98,1481.63 \n",
       "  \"/>\n",
       "<polyline clip-path=\"url(#clip4901)\" style=\"stroke:#000000; stroke-width:4; stroke-opacity:1; fill:none\" points=\"\n",
       "  2262.4,1503.47 2262.4,1481.63 \n",
       "  \"/>\n",
       "<polyline clip-path=\"url(#clip4901)\" style=\"stroke:#000000; stroke-width:4; stroke-opacity:1; fill:none\" points=\"\n",
       "  241.681,1473.92 272.875,1473.92 \n",
       "  \"/>\n",
       "<polyline clip-path=\"url(#clip4901)\" style=\"stroke:#000000; stroke-width:4; stroke-opacity:1; fill:none\" points=\"\n",
       "  241.681,1058.28 272.875,1058.28 \n",
       "  \"/>\n",
       "<polyline clip-path=\"url(#clip4901)\" style=\"stroke:#000000; stroke-width:4; stroke-opacity:1; fill:none\" points=\"\n",
       "  241.681,642.644 272.875,642.644 \n",
       "  \"/>\n",
       "<polyline clip-path=\"url(#clip4901)\" style=\"stroke:#000000; stroke-width:4; stroke-opacity:1; fill:none\" points=\"\n",
       "  241.681,227.005 272.875,227.005 \n",
       "  \"/>\n",
       "<g clip-path=\"url(#clip4901)\">\n",
       "<text style=\"fill:#000000; fill-opacity:1; font-family:Arial,Helvetica Neue,Helvetica,sans-serif; font-size:48; text-anchor:middle;\" transform=\"rotate(0, 280.72, 1557.47)\" x=\"280.72\" y=\"1557.47\">0</text>\n",
       "</g>\n",
       "<g clip-path=\"url(#clip4901)\">\n",
       "<text style=\"fill:#000000; fill-opacity:1; font-family:Arial,Helvetica Neue,Helvetica,sans-serif; font-size:48; text-anchor:middle;\" transform=\"rotate(0, 776.141, 1557.47)\" x=\"776.141\" y=\"1557.47\">25</text>\n",
       "</g>\n",
       "<g clip-path=\"url(#clip4901)\">\n",
       "<text style=\"fill:#000000; fill-opacity:1; font-family:Arial,Helvetica Neue,Helvetica,sans-serif; font-size:48; text-anchor:middle;\" transform=\"rotate(0, 1271.56, 1557.47)\" x=\"1271.56\" y=\"1557.47\">50</text>\n",
       "</g>\n",
       "<g clip-path=\"url(#clip4901)\">\n",
       "<text style=\"fill:#000000; fill-opacity:1; font-family:Arial,Helvetica Neue,Helvetica,sans-serif; font-size:48; text-anchor:middle;\" transform=\"rotate(0, 1766.98, 1557.47)\" x=\"1766.98\" y=\"1557.47\">75</text>\n",
       "</g>\n",
       "<g clip-path=\"url(#clip4901)\">\n",
       "<text style=\"fill:#000000; fill-opacity:1; font-family:Arial,Helvetica Neue,Helvetica,sans-serif; font-size:48; text-anchor:middle;\" transform=\"rotate(0, 2262.4, 1557.47)\" x=\"2262.4\" y=\"1557.47\">100</text>\n",
       "</g>\n",
       "<g clip-path=\"url(#clip4901)\">\n",
       "<text style=\"fill:#000000; fill-opacity:1; font-family:Arial,Helvetica Neue,Helvetica,sans-serif; font-size:48; text-anchor:end;\" transform=\"rotate(0, 217.681, 1491.42)\" x=\"217.681\" y=\"1491.42\">0.0000</text>\n",
       "</g>\n",
       "<g clip-path=\"url(#clip4901)\">\n",
       "<text style=\"fill:#000000; fill-opacity:1; font-family:Arial,Helvetica Neue,Helvetica,sans-serif; font-size:48; text-anchor:end;\" transform=\"rotate(0, 217.681, 1075.78)\" x=\"217.681\" y=\"1075.78\">0.0005</text>\n",
       "</g>\n",
       "<g clip-path=\"url(#clip4901)\">\n",
       "<text style=\"fill:#000000; fill-opacity:1; font-family:Arial,Helvetica Neue,Helvetica,sans-serif; font-size:48; text-anchor:end;\" transform=\"rotate(0, 217.681, 660.144)\" x=\"217.681\" y=\"660.144\">0.0010</text>\n",
       "</g>\n",
       "<g clip-path=\"url(#clip4901)\">\n",
       "<text style=\"fill:#000000; fill-opacity:1; font-family:Arial,Helvetica Neue,Helvetica,sans-serif; font-size:48; text-anchor:end;\" transform=\"rotate(0, 217.681, 244.505)\" x=\"217.681\" y=\"244.505\">0.0015</text>\n",
       "</g>\n",
       "<polyline clip-path=\"url(#clip4903)\" style=\"stroke:#009af9; stroke-width:4; stroke-opacity:1; fill:none\" points=\"\n",
       "  300.537,88.4582 320.354,328.911 340.171,511.794 359.988,654.121 379.804,767.053 399.621,858.16 419.438,932.725 439.255,994.523 459.072,1046.31 478.889,1090.14 \n",
       "  498.705,1127.56 518.522,1159.76 538.339,1187.67 558.156,1212.02 577.973,1233.39 597.79,1252.25 617.606,1268.97 637.423,1283.87 657.24,1297.2 677.057,1309.18 \n",
       "  696.874,1319.98 716.691,1329.75 736.507,1338.62 756.324,1346.7 776.141,1354.07 795.958,1360.82 815.775,1367.02 835.592,1372.72 855.408,1377.98 875.225,1382.83 \n",
       "  895.042,1387.33 914.859,1391.5 934.676,1395.38 954.493,1398.99 974.309,1402.36 994.126,1405.5 1013.94,1408.45 1033.76,1411.2 1053.58,1413.79 1073.39,1416.22 \n",
       "  1093.21,1418.5 1113.03,1420.66 1132.84,1422.68 1152.66,1424.6 1172.48,1426.41 1192.29,1428.12 1212.11,1429.74 1231.93,1431.28 1251.75,1432.74 1271.56,1434.12 \n",
       "  1291.38,1435.44 1311.2,1436.69 1331.01,1437.88 1350.83,1439.01 1370.65,1440.1 1390.46,1441.13 1410.28,1442.12 1430.1,1443.06 1449.91,1443.96 1469.73,1444.82 \n",
       "  1489.55,1445.65 1509.36,1446.44 1529.18,1447.2 1549,1447.92 1568.81,1448.62 1588.63,1449.29 1608.45,1449.94 1628.27,1450.55 1648.08,1451.15 1667.9,1451.72 \n",
       "  1687.72,1452.27 1707.53,1452.81 1727.35,1453.32 1747.17,1453.81 1766.98,1454.29 1786.8,1454.75 1806.62,1455.19 1826.43,1455.62 1846.25,1456.03 1866.07,1456.43 \n",
       "  1885.88,1456.82 1905.7,1457.19 1925.52,1457.55 1945.33,1457.9 1965.15,1458.24 1984.97,1458.57 2004.78,1458.89 2024.6,1459.2 2044.42,1459.5 2064.24,1459.79 \n",
       "  2084.05,1460.07 2103.87,1460.34 2123.69,1460.61 2143.5,1460.86 2163.32,1461.11 2183.14,1461.36 2202.95,1461.59 2222.77,1461.82 2242.59,1462.04 2262.4,1462.26 \n",
       "  \n",
       "  \"/>\n",
       "<polygon clip-path=\"url(#clip4901)\" points=\"\n",
       "1385.98,251.724 2249.26,251.724 2249.26,130.764 1385.98,130.764 \n",
       "  \" fill=\"#ffffff\" fill-opacity=\"1\"/>\n",
       "<polyline clip-path=\"url(#clip4901)\" style=\"stroke:#000000; stroke-width:4; stroke-opacity:1; fill:none\" points=\"\n",
       "  1385.98,251.724 2249.26,251.724 2249.26,130.764 1385.98,130.764 1385.98,251.724 \n",
       "  \"/>\n",
       "<polyline clip-path=\"url(#clip4901)\" style=\"stroke:#009af9; stroke-width:4; stroke-opacity:1; fill:none\" points=\"\n",
       "  1409.98,191.244 1553.98,191.244 \n",
       "  \"/>\n",
       "<g clip-path=\"url(#clip4901)\">\n",
       "<text style=\"fill:#000000; fill-opacity:1; font-family:Arial,Helvetica Neue,Helvetica,sans-serif; font-size:48; text-anchor:start;\" transform=\"rotate(0, 1577.98, 208.744)\" x=\"1577.98\" y=\"208.744\">Error of Trapezoidal Function</text>\n",
       "</g>\n",
       "</svg>\n"
      ]
     },
     "execution_count": 47,
     "metadata": {},
     "output_type": "execute_result"
    }
   ],
   "source": [
    "function trapezoidal(f::AbstractArray, x::AbstractArray)\n",
    "    y=similar(x, length(x)-1)\n",
    "    for i in 1:length(x)-1\n",
    "        y[i]=(f[i]+f[i+1])*(x[i+1]-x[i])/2\n",
    "        end\n",
    "    return sum(y)\n",
    "end\n",
    "\n",
    "function trapezoidal(f::AbstractArray,x::AbstractRange)\n",
    "    y=similar(x,length(x)-1)\n",
    "    for i in 1:length(x)-1\n",
    "        y[i]=(f[i]+f[i+1])*(x[i+1]-x[i])/2\n",
    "        end\n",
    "    return sum(y)\n",
    "end\n",
    "\n",
    "#function trapezoidal(f::Function;xunderline::Real=0.0,xbar::Real=1,N::Integer=11)\n",
    " #   xrange=range(xunderline,xbar,length=N)\n",
    "  #  y=similar(xrange,length(xrange)-1)\n",
    "   # for i in 1:length(xrange)-1\n",
    "    #    y[i]=(f(xrange[i])+f(xrange[i+1]))*(xrange[i+1]-xrange[i])/2\n",
    "    #end\n",
    "    #return sum(y)\n",
    "#end\n",
    "\n",
    "trapezoidal(f::Function;xunderline::Real=0.0,xbar::Real=1,N::Integer=11)=trapezoidal(f.(range(xunderline,xbar,length=N)),range(xunderline,xbar,length=N))\n",
    "\n",
    "    \n",
    "    \n",
    "    \n",
    "x1=[0 .1 .2 .3 .4 .5 .6 .7 .8 .9 1]\n",
    "x2=0:0.1:1\n",
    "\n",
    "f0(x)=x^2\n",
    "g0=f0.(x1)\n",
    "h0=f0.(x2)\n",
    "\n",
    "@show trapezoidal(g0,x1)\n",
    "@show trapezoidal(h0,x2)\n",
    "@show trapezoidal(f0)\n",
    "@show quadgk(f0,0,1)[1]\n",
    "\n",
    "NumberN = 100\n",
    "z=zeros(NumberN)\n",
    "\n",
    "for i in 1:NumberN\n",
    "    z[i]=abs(quadgk(f0,0,1)[1]-trapezoidal(f0,0,1,i+10))\n",
    "end\n",
    "\n",
    "plot(z,label=\"Error of Trapezoidal Function\")\n",
    "    "
   ]
  },
  {
   "cell_type": "code",
   "execution_count": 5,
   "metadata": {},
   "outputs": [
    {
     "name": "stdout",
     "output_type": "stream",
     "text": [
      "trapezoidal(g1, x1) = 1.7197134913893146\n",
      "trapezoidal(h1, x2) = 1.7197134913893146\n",
      "trapezoidal(fnew) = 1.7197134913893142\n",
      "(quadgk(fnew, 0, 1))[1] = 1.718281828459045\n"
     ]
    },
    {
     "data": {
      "image/svg+xml": [
       "<?xml version=\"1.0\" encoding=\"utf-8\"?>\n",
       "<svg xmlns=\"http://www.w3.org/2000/svg\" xmlns:xlink=\"http://www.w3.org/1999/xlink\" width=\"600\" height=\"400\" viewBox=\"0 0 2400 1600\">\n",
       "<defs>\n",
       "  <clipPath id=\"clip4800\">\n",
       "    <rect x=\"0\" y=\"0\" width=\"2000\" height=\"2000\"/>\n",
       "  </clipPath>\n",
       "</defs>\n",
       "<defs>\n",
       "  <clipPath id=\"clip4801\">\n",
       "    <rect x=\"0\" y=\"0\" width=\"2400\" height=\"1600\"/>\n",
       "  </clipPath>\n",
       "</defs>\n",
       "<polygon clip-path=\"url(#clip4801)\" points=\"\n",
       "0,1600 2400,1600 2400,0 0,0 \n",
       "  \" fill=\"#ffffff\" fill-opacity=\"1\"/>\n",
       "<defs>\n",
       "  <clipPath id=\"clip4802\">\n",
       "    <rect x=\"480\" y=\"0\" width=\"1681\" height=\"1600\"/>\n",
       "  </clipPath>\n",
       "</defs>\n",
       "<polygon clip-path=\"url(#clip4801)\" points=\"\n",
       "241.681,1503.47 2321.26,1503.47 2321.26,47.2441 241.681,47.2441 \n",
       "  \" fill=\"#ffffff\" fill-opacity=\"1\"/>\n",
       "<defs>\n",
       "  <clipPath id=\"clip4803\">\n",
       "    <rect x=\"241\" y=\"47\" width=\"2081\" height=\"1457\"/>\n",
       "  </clipPath>\n",
       "</defs>\n",
       "<polyline clip-path=\"url(#clip4803)\" style=\"stroke:#000000; stroke-width:2; stroke-opacity:0.1; fill:none\" points=\"\n",
       "  280.72,1503.47 280.72,47.2441 \n",
       "  \"/>\n",
       "<polyline clip-path=\"url(#clip4803)\" style=\"stroke:#000000; stroke-width:2; stroke-opacity:0.1; fill:none\" points=\"\n",
       "  776.141,1503.47 776.141,47.2441 \n",
       "  \"/>\n",
       "<polyline clip-path=\"url(#clip4803)\" style=\"stroke:#000000; stroke-width:2; stroke-opacity:0.1; fill:none\" points=\"\n",
       "  1271.56,1503.47 1271.56,47.2441 \n",
       "  \"/>\n",
       "<polyline clip-path=\"url(#clip4803)\" style=\"stroke:#000000; stroke-width:2; stroke-opacity:0.1; fill:none\" points=\"\n",
       "  1766.98,1503.47 1766.98,47.2441 \n",
       "  \"/>\n",
       "<polyline clip-path=\"url(#clip4803)\" style=\"stroke:#000000; stroke-width:2; stroke-opacity:0.1; fill:none\" points=\"\n",
       "  2262.4,1503.47 2262.4,47.2441 \n",
       "  \"/>\n",
       "<polyline clip-path=\"url(#clip4803)\" style=\"stroke:#000000; stroke-width:2; stroke-opacity:0.1; fill:none\" points=\"\n",
       "  241.681,1473.92 2321.26,1473.92 \n",
       "  \"/>\n",
       "<polyline clip-path=\"url(#clip4803)\" style=\"stroke:#000000; stroke-width:2; stroke-opacity:0.1; fill:none\" points=\"\n",
       "  241.681,1183.6 2321.26,1183.6 \n",
       "  \"/>\n",
       "<polyline clip-path=\"url(#clip4803)\" style=\"stroke:#000000; stroke-width:2; stroke-opacity:0.1; fill:none\" points=\"\n",
       "  241.681,893.285 2321.26,893.285 \n",
       "  \"/>\n",
       "<polyline clip-path=\"url(#clip4803)\" style=\"stroke:#000000; stroke-width:2; stroke-opacity:0.1; fill:none\" points=\"\n",
       "  241.681,602.965 2321.26,602.965 \n",
       "  \"/>\n",
       "<polyline clip-path=\"url(#clip4803)\" style=\"stroke:#000000; stroke-width:2; stroke-opacity:0.1; fill:none\" points=\"\n",
       "  241.681,312.646 2321.26,312.646 \n",
       "  \"/>\n",
       "<polyline clip-path=\"url(#clip4801)\" style=\"stroke:#000000; stroke-width:4; stroke-opacity:1; fill:none\" points=\"\n",
       "  241.681,1503.47 2321.26,1503.47 \n",
       "  \"/>\n",
       "<polyline clip-path=\"url(#clip4801)\" style=\"stroke:#000000; stroke-width:4; stroke-opacity:1; fill:none\" points=\"\n",
       "  241.681,1503.47 241.681,47.2441 \n",
       "  \"/>\n",
       "<polyline clip-path=\"url(#clip4801)\" style=\"stroke:#000000; stroke-width:4; stroke-opacity:1; fill:none\" points=\"\n",
       "  280.72,1503.47 280.72,1481.63 \n",
       "  \"/>\n",
       "<polyline clip-path=\"url(#clip4801)\" style=\"stroke:#000000; stroke-width:4; stroke-opacity:1; fill:none\" points=\"\n",
       "  776.141,1503.47 776.141,1481.63 \n",
       "  \"/>\n",
       "<polyline clip-path=\"url(#clip4801)\" style=\"stroke:#000000; stroke-width:4; stroke-opacity:1; fill:none\" points=\"\n",
       "  1271.56,1503.47 1271.56,1481.63 \n",
       "  \"/>\n",
       "<polyline clip-path=\"url(#clip4801)\" style=\"stroke:#000000; stroke-width:4; stroke-opacity:1; fill:none\" points=\"\n",
       "  1766.98,1503.47 1766.98,1481.63 \n",
       "  \"/>\n",
       "<polyline clip-path=\"url(#clip4801)\" style=\"stroke:#000000; stroke-width:4; stroke-opacity:1; fill:none\" points=\"\n",
       "  2262.4,1503.47 2262.4,1481.63 \n",
       "  \"/>\n",
       "<polyline clip-path=\"url(#clip4801)\" style=\"stroke:#000000; stroke-width:4; stroke-opacity:1; fill:none\" points=\"\n",
       "  241.681,1473.92 272.875,1473.92 \n",
       "  \"/>\n",
       "<polyline clip-path=\"url(#clip4801)\" style=\"stroke:#000000; stroke-width:4; stroke-opacity:1; fill:none\" points=\"\n",
       "  241.681,1183.6 272.875,1183.6 \n",
       "  \"/>\n",
       "<polyline clip-path=\"url(#clip4801)\" style=\"stroke:#000000; stroke-width:4; stroke-opacity:1; fill:none\" points=\"\n",
       "  241.681,893.285 272.875,893.285 \n",
       "  \"/>\n",
       "<polyline clip-path=\"url(#clip4801)\" style=\"stroke:#000000; stroke-width:4; stroke-opacity:1; fill:none\" points=\"\n",
       "  241.681,602.965 272.875,602.965 \n",
       "  \"/>\n",
       "<polyline clip-path=\"url(#clip4801)\" style=\"stroke:#000000; stroke-width:4; stroke-opacity:1; fill:none\" points=\"\n",
       "  241.681,312.646 272.875,312.646 \n",
       "  \"/>\n",
       "<g clip-path=\"url(#clip4801)\">\n",
       "<text style=\"fill:#000000; fill-opacity:1; font-family:Arial,Helvetica Neue,Helvetica,sans-serif; font-size:48; text-anchor:middle;\" transform=\"rotate(0, 280.72, 1557.47)\" x=\"280.72\" y=\"1557.47\">0</text>\n",
       "</g>\n",
       "<g clip-path=\"url(#clip4801)\">\n",
       "<text style=\"fill:#000000; fill-opacity:1; font-family:Arial,Helvetica Neue,Helvetica,sans-serif; font-size:48; text-anchor:middle;\" transform=\"rotate(0, 776.141, 1557.47)\" x=\"776.141\" y=\"1557.47\">25</text>\n",
       "</g>\n",
       "<g clip-path=\"url(#clip4801)\">\n",
       "<text style=\"fill:#000000; fill-opacity:1; font-family:Arial,Helvetica Neue,Helvetica,sans-serif; font-size:48; text-anchor:middle;\" transform=\"rotate(0, 1271.56, 1557.47)\" x=\"1271.56\" y=\"1557.47\">50</text>\n",
       "</g>\n",
       "<g clip-path=\"url(#clip4801)\">\n",
       "<text style=\"fill:#000000; fill-opacity:1; font-family:Arial,Helvetica Neue,Helvetica,sans-serif; font-size:48; text-anchor:middle;\" transform=\"rotate(0, 1766.98, 1557.47)\" x=\"1766.98\" y=\"1557.47\">75</text>\n",
       "</g>\n",
       "<g clip-path=\"url(#clip4801)\">\n",
       "<text style=\"fill:#000000; fill-opacity:1; font-family:Arial,Helvetica Neue,Helvetica,sans-serif; font-size:48; text-anchor:middle;\" transform=\"rotate(0, 2262.4, 1557.47)\" x=\"2262.4\" y=\"1557.47\">100</text>\n",
       "</g>\n",
       "<g clip-path=\"url(#clip4801)\">\n",
       "<text style=\"fill:#000000; fill-opacity:1; font-family:Arial,Helvetica Neue,Helvetica,sans-serif; font-size:48; text-anchor:end;\" transform=\"rotate(0, 217.681, 1491.42)\" x=\"217.681\" y=\"1491.42\">0.0000</text>\n",
       "</g>\n",
       "<g clip-path=\"url(#clip4801)\">\n",
       "<text style=\"fill:#000000; fill-opacity:1; font-family:Arial,Helvetica Neue,Helvetica,sans-serif; font-size:48; text-anchor:end;\" transform=\"rotate(0, 217.681, 1201.1)\" x=\"217.681\" y=\"1201.1\">0.0003</text>\n",
       "</g>\n",
       "<g clip-path=\"url(#clip4801)\">\n",
       "<text style=\"fill:#000000; fill-opacity:1; font-family:Arial,Helvetica Neue,Helvetica,sans-serif; font-size:48; text-anchor:end;\" transform=\"rotate(0, 217.681, 910.785)\" x=\"217.681\" y=\"910.785\">0.0006</text>\n",
       "</g>\n",
       "<g clip-path=\"url(#clip4801)\">\n",
       "<text style=\"fill:#000000; fill-opacity:1; font-family:Arial,Helvetica Neue,Helvetica,sans-serif; font-size:48; text-anchor:end;\" transform=\"rotate(0, 217.681, 620.465)\" x=\"217.681\" y=\"620.465\">0.0009</text>\n",
       "</g>\n",
       "<g clip-path=\"url(#clip4801)\">\n",
       "<text style=\"fill:#000000; fill-opacity:1; font-family:Arial,Helvetica Neue,Helvetica,sans-serif; font-size:48; text-anchor:end;\" transform=\"rotate(0, 217.681, 330.146)\" x=\"217.681\" y=\"330.146\">0.0012</text>\n",
       "</g>\n",
       "<polyline clip-path=\"url(#clip4803)\" style=\"stroke:#009af9; stroke-width:4; stroke-opacity:1; fill:none\" points=\"\n",
       "  300.537,88.4582 320.354,328.878 340.171,511.746 359.988,654.066 379.804,766.996 399.621,858.104 419.438,932.671 439.255,994.472 459.072,1046.26 478.889,1090.09 \n",
       "  498.705,1127.51 518.522,1159.72 538.339,1187.63 558.156,1211.99 577.973,1233.36 597.79,1252.22 617.606,1268.94 637.423,1283.85 657.24,1297.18 677.057,1309.16 \n",
       "  696.874,1319.96 716.691,1329.73 736.507,1338.6 756.324,1346.68 776.141,1354.06 795.958,1360.81 815.775,1367 835.592,1372.71 855.408,1377.96 875.225,1382.82 \n",
       "  895.042,1387.32 914.859,1391.49 934.676,1395.37 954.493,1398.98 974.309,1402.35 994.126,1405.49 1013.94,1408.44 1033.76,1411.19 1053.58,1413.78 1073.39,1416.21 \n",
       "  1093.21,1418.5 1113.03,1420.65 1132.84,1422.68 1152.66,1424.59 1172.48,1426.4 1192.29,1428.12 1212.11,1429.74 1231.93,1431.27 1251.75,1432.73 1271.56,1434.12 \n",
       "  1291.38,1435.43 1311.2,1436.68 1331.01,1437.88 1350.83,1439.01 1370.65,1440.09 1390.46,1441.13 1410.28,1442.11 1430.1,1443.06 1449.91,1443.96 1469.73,1444.82 \n",
       "  1489.55,1445.64 1509.36,1446.44 1529.18,1447.19 1549,1447.92 1568.81,1448.62 1588.63,1449.29 1608.45,1449.93 1628.27,1450.55 1648.08,1451.15 1667.9,1451.72 \n",
       "  1687.72,1452.27 1707.53,1452.8 1727.35,1453.32 1747.17,1453.81 1766.98,1454.29 1786.8,1454.74 1806.62,1455.19 1826.43,1455.62 1846.25,1456.03 1866.07,1456.43 \n",
       "  1885.88,1456.82 1905.7,1457.19 1925.52,1457.55 1945.33,1457.9 1965.15,1458.24 1984.97,1458.57 2004.78,1458.89 2024.6,1459.2 2044.42,1459.5 2064.24,1459.79 \n",
       "  2084.05,1460.07 2103.87,1460.34 2123.69,1460.6 2143.5,1460.86 2163.32,1461.11 2183.14,1461.36 2202.95,1461.59 2222.77,1461.82 2242.59,1462.04 2262.4,1462.26 \n",
       "  \n",
       "  \"/>\n",
       "<polygon clip-path=\"url(#clip4801)\" points=\"\n",
       "1385.98,251.724 2249.26,251.724 2249.26,130.764 1385.98,130.764 \n",
       "  \" fill=\"#ffffff\" fill-opacity=\"1\"/>\n",
       "<polyline clip-path=\"url(#clip4801)\" style=\"stroke:#000000; stroke-width:4; stroke-opacity:1; fill:none\" points=\"\n",
       "  1385.98,251.724 2249.26,251.724 2249.26,130.764 1385.98,130.764 1385.98,251.724 \n",
       "  \"/>\n",
       "<polyline clip-path=\"url(#clip4801)\" style=\"stroke:#009af9; stroke-width:4; stroke-opacity:1; fill:none\" points=\"\n",
       "  1409.98,191.244 1553.98,191.244 \n",
       "  \"/>\n",
       "<g clip-path=\"url(#clip4801)\">\n",
       "<text style=\"fill:#000000; fill-opacity:1; font-family:Arial,Helvetica Neue,Helvetica,sans-serif; font-size:48; text-anchor:start;\" transform=\"rotate(0, 1577.98, 208.744)\" x=\"1577.98\" y=\"208.744\">Error of Trapezoidal Function</text>\n",
       "</g>\n",
       "</svg>\n"
      ]
     },
     "execution_count": 5,
     "metadata": {},
     "output_type": "execute_result"
    }
   ],
   "source": [
    "fnew(x)=exp(x)\n",
    "g1 =fnew.(x1)\n",
    "h1 =fnew.(x2)\n",
    "\n",
    "@show trapezoidal(g1,x1)\n",
    "@show trapezoidal(h1,x2)\n",
    "@show trapezoidal(fnew)\n",
    "@show quadgk(fnew,0,1)[1]\n",
    "\n",
    "NumberN = 100\n",
    "z1=zeros(NumberN)\n",
    "\n",
    "for i in 1:NumberN\n",
    "    z[i]=abs(quadgk(fnew,0,1)[1]-trapezoidal(fnew,0,1,i+10))\n",
    "end\n",
    "\n",
    "plot(z,label=\"Error of Trapezoidal Function\")"
   ]
  },
  {
   "cell_type": "markdown",
   "metadata": {},
   "source": [
    "### Exercise 6 (Advanced)\n",
    "\n",
    "Take a variation of your code in Exercise 5 which implements the trapezoidal rule for the uniform grid\n",
    "\n",
    "Use auto-differentiation to calculate the following derivative for the example functions\n",
    "\n",
    "$$\n",
    "\\frac{d}{d \\bar{x}}\\int_\\underline{x}^\\bar{x} f(x) \\, dx\n",
    "$$\n",
    "\n",
    "Hint: See the following code for the general pattern, and be careful to follow the [rules for generic programming](_generic_tips_tricks)"
   ]
  },
  {
   "cell_type": "code",
   "execution_count": 50,
   "metadata": {},
   "outputs": [
    {
     "name": "stdout",
     "output_type": "stream",
     "text": [
      "g_prime(1.0) = 1.0002082465639317\n"
     ]
    },
    {
     "data": {
      "text/plain": [
       "1.02"
      ]
     },
     "execution_count": 50,
     "metadata": {},
     "output_type": "execute_result"
    }
   ],
   "source": [
    "g_prime(x) = ForwardDiff.derivative(y -> trapezoidal(f0,xunderline=0.0,xbar=y,N=50), x)\n",
    "@show g_prime(1.0)\n",
    "\n",
    "genran(z,x)=range(0.0, length=x, stop=z)\n",
    "Df(z,x) = ForwardDiff.derivative(z->trapezoidal(f0.(genran(z,x)),genran(z,x)), z)\n",
    "Df(1.0,6)"
   ]
  },
  {
   "cell_type": "markdown",
   "metadata": {},
   "source": [
    "Doing this exercise, I learned that when writing a function, using the similar function when creating new entries can help a lot in terms of type matching. It doesn't always matter as in Exercise 5, i.e. I was able to find the answers using zeros or fill rather than similar, but sometimes it does as in Exercise 6 when using ForwardDiff."
   ]
  }
 ],
 "metadata": {
  "kernelspec": {
   "display_name": "Julia 1.0.1",
   "language": "julia",
   "name": "julia-1.0"
  },
  "language_info": {
   "file_extension": ".jl",
   "mimetype": "application/julia",
   "name": "julia",
   "version": "1.0.1"
  }
 },
 "nbformat": 4,
 "nbformat_minor": 2
}
